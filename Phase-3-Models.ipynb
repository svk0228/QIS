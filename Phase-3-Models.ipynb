{
  "cells": [
    {
      "cell_type": "code",
      "execution_count": null,
      "id": "168717dd",
      "metadata": {
        "id": "168717dd"
      },
      "outputs": [],
      "source": [
        "from google.colab import files\n",
        "uploaded = files.upload()\n"
      ]
    },
    {
      "cell_type": "code",
      "source": [
        "from google.colab import drive\n",
        "drive.mount('/content/drive')"
      ],
      "metadata": {
        "colab": {
          "base_uri": "https://localhost:8080/"
        },
        "id": "t4osjalEgeuf",
        "outputId": "e2451246-d21e-4cd4-f30f-89adb7132403"
      },
      "id": "t4osjalEgeuf",
      "execution_count": 1,
      "outputs": [
        {
          "output_type": "stream",
          "name": "stdout",
          "text": [
            "Mounted at /content/drive\n"
          ]
        }
      ]
    },
    {
      "cell_type": "code",
      "source": [
        "                                                                                                                                                                                                                                                                                                                                                                                                                                                                                                                                                                                                                                                                                                                                                                                                                                                                                                                                                                                    "
      ],
      "metadata": {
        "id": "he5IIlVugnLQ"
      },
      "id": "he5IIlVugnLQ",
      "execution_count": null,
      "outputs": []
    },
    {
      "cell_type": "code",
      "execution_count": 2,
      "id": "309bdb9e",
      "metadata": {
        "colab": {
          "base_uri": "https://localhost:8080/"
        },
        "id": "309bdb9e",
        "outputId": "bf8bc551-f999-4376-f610-0103b90cd8b7"
      },
      "outputs": [
        {
          "output_type": "stream",
          "name": "stdout",
          "text": [
            "--2022-01-12 04:44:49--  https://nlp.stanford.edu/data/glove.840B.300d.zip\n",
            "Resolving nlp.stanford.edu (nlp.stanford.edu)... 171.64.67.140\n",
            "Connecting to nlp.stanford.edu (nlp.stanford.edu)|171.64.67.140|:443... connected.\n",
            "HTTP request sent, awaiting response... 301 Moved Permanently\n",
            "Location: http://downloads.cs.stanford.edu/nlp/data/glove.840B.300d.zip [following]\n",
            "--2022-01-12 04:44:50--  http://downloads.cs.stanford.edu/nlp/data/glove.840B.300d.zip\n",
            "Resolving downloads.cs.stanford.edu (downloads.cs.stanford.edu)... 171.64.64.22\n",
            "Connecting to downloads.cs.stanford.edu (downloads.cs.stanford.edu)|171.64.64.22|:80... connected.\n",
            "HTTP request sent, awaiting response... 200 OK\n",
            "Length: 2176768927 (2.0G) [application/zip]\n",
            "Saving to: ‘glove.840B.300d.zip’\n",
            "\n",
            "glove.840B.300d.zip 100%[===================>]   2.03G  4.97MB/s    in 6m 53s  \n",
            "\n",
            "2022-01-12 04:51:43 (5.03 MB/s) - ‘glove.840B.300d.zip’ saved [2176768927/2176768927]\n",
            "\n"
          ]
        }
      ],
      "source": [
        "!wget https://nlp.stanford.edu/data/glove.840B.300d.zip"
      ]
    },
    {
      "cell_type": "code",
      "execution_count": 3,
      "id": "7cf45487",
      "metadata": {
        "colab": {
          "base_uri": "https://localhost:8080/"
        },
        "id": "7cf45487",
        "outputId": "2bce2792-b462-41e0-c36f-71919236e612"
      },
      "outputs": [
        {
          "output_type": "stream",
          "name": "stdout",
          "text": [
            "--2022-01-12 04:54:42--  https://doc-0k-cc-docs.googleusercontent.com/docs/securesc/rirra944eou29ufpa55guipcs32c7044/kpkr98f6qcf1ge2ggflkf4fgoqdk3osu/1641963150000/14570458592396221227/06645022298893992203/0B9w48e1rj-MOck1fRGxaZW1LU2M?e=download&authuser=0&nonce=5q0tbeo6ri56k&user=06645022298893992203&hash=uhno9fmg1klqeg29k79rigdob17gh4ku\n",
            "Resolving doc-0k-cc-docs.googleusercontent.com (doc-0k-cc-docs.googleusercontent.com)... 142.250.153.132, 2a00:1450:4013:c16::84\n",
            "Connecting to doc-0k-cc-docs.googleusercontent.com (doc-0k-cc-docs.googleusercontent.com)|142.250.153.132|:443... connected.\n",
            "HTTP request sent, awaiting response... 200 OK\n",
            "Length: 1788785684 (1.7G) [application/zip]\n",
            "Saving to: ‘paragram_300_sl999.zip’\n",
            "\n",
            "paragram_300_sl999. 100%[===================>]   1.67G  88.4MB/s    in 22s     \n",
            "\n",
            "2022-01-12 04:55:04 (78.8 MB/s) - ‘paragram_300_sl999.zip’ saved [1788785684/1788785684]\n",
            "\n"
          ]
        }
      ],
      "source": [
        "!wget --header=\"Host: doc-0k-cc-docs.googleusercontent.com\" --header=\"User-Agent: Mozilla/5.0 (Windows NT 10.0; Win64; x64) AppleWebKit/537.36 (KHTML, like Gecko) Chrome/97.0.4692.71 Safari/537.36\" --header=\"Accept: text/html,application/xhtml+xml,application/xml;q=0.9,image/avif,image/webp,image/apng,*/*;q=0.8,application/signed-exchange;v=b3;q=0.9\" --header=\"Accept-Language: en-US,en;q=0.9\" --header=\"Referer: https://drive.google.com/\" --header=\"Cookie: AUTH_4fli9hql9fevt4gjclji926hbvve0771_nonce=5q0tbeo6ri56k\" --header=\"Connection: keep-alive\" \"https://doc-0k-cc-docs.googleusercontent.com/docs/securesc/rirra944eou29ufpa55guipcs32c7044/kpkr98f6qcf1ge2ggflkf4fgoqdk3osu/1641963150000/14570458592396221227/06645022298893992203/0B9w48e1rj-MOck1fRGxaZW1LU2M?e=download&authuser=0&nonce=5q0tbeo6ri56k&user=06645022298893992203&hash=uhno9fmg1klqeg29k79rigdob17gh4ku\" -c -O 'paragram_300_sl999.zip'"
      ]
    },
    {
      "cell_type": "code",
      "execution_count": 4,
      "id": "1fff889e",
      "metadata": {
        "colab": {
          "base_uri": "https://localhost:8080/"
        },
        "id": "1fff889e",
        "outputId": "70dbc349-1384-482f-a245-39163844c858"
      },
      "outputs": [
        {
          "output_type": "stream",
          "name": "stdout",
          "text": [
            "--2022-01-12 04:56:11--  https://dl.fbaipublicfiles.com/fasttext/vectors-english/wiki-news-300d-1M.vec.zip\n",
            "Resolving dl.fbaipublicfiles.com (dl.fbaipublicfiles.com)... 104.22.74.142, 172.67.9.4, 104.22.75.142, ...\n",
            "Connecting to dl.fbaipublicfiles.com (dl.fbaipublicfiles.com)|104.22.74.142|:443... connected.\n",
            "HTTP request sent, awaiting response... 200 OK\n",
            "Length: 681808098 (650M) [application/zip]\n",
            "Saving to: ‘wiki-news-300d-1M.vec.zip’\n",
            "\n",
            "wiki-news-300d-1M.v 100%[===================>] 650.22M  22.3MB/s    in 31s     \n",
            "\n",
            "2022-01-12 04:56:43 (21.3 MB/s) - ‘wiki-news-300d-1M.vec.zip’ saved [681808098/681808098]\n",
            "\n"
          ]
        }
      ],
      "source": [
        "!wget https://dl.fbaipublicfiles.com/fasttext/vectors-english/wiki-news-300d-1M.vec.zip"
      ]
    },
    {
      "cell_type": "code",
      "source": [
        "!wget --header=\"Host: doc-0g-08-docs.googleusercontent.com\" --header=\"User-Agent: Mozilla/5.0 (Windows NT 10.0; Win64; x64) AppleWebKit/537.36 (KHTML, like Gecko) Chrome/97.0.4692.71 Safari/537.36\" --header=\"Accept: text/html,application/xhtml+xml,application/xml;q=0.9,image/avif,image/webp,image/apng,*/*;q=0.8,application/signed-exchange;v=b3;q=0.9\" --header=\"Accept-Language: en-US,en;q=0.9\" --header=\"Referer: https://drive.google.com/\" --header=\"Cookie: AUTH_4fli9hql9fevt4gjclji926hbvve0771=06645022298893992203|1641963150000|mrlm3aspjsur1hpae8qdkpji52vrrl0g\" --header=\"Connection: keep-alive\" \"https://doc-0g-08-docs.googleusercontent.com/docs/securesc/rirra944eou29ufpa55guipcs32c7044/cfv3qshh2a9558vlgc5ll7h6q74neahj/1641963375000/06848720943842814915/06645022298893992203/0B7XkCwpI5KDYNlNUTTlSS21pQmM?e=download&authuser=0\" -c -O 'GoogleNews-vectors-negative300.bin.gz'\n"
      ],
      "metadata": {
        "colab": {
          "base_uri": "https://localhost:8080/"
        },
        "id": "heFxot0dlP0q",
        "outputId": "79bd453a-121c-4707-9416-accc479cac25"
      },
      "id": "heFxot0dlP0q",
      "execution_count": 5,
      "outputs": [
        {
          "output_type": "stream",
          "name": "stdout",
          "text": [
            "--2022-01-12 04:57:11--  https://doc-0g-08-docs.googleusercontent.com/docs/securesc/rirra944eou29ufpa55guipcs32c7044/cfv3qshh2a9558vlgc5ll7h6q74neahj/1641963375000/06848720943842814915/06645022298893992203/0B7XkCwpI5KDYNlNUTTlSS21pQmM?e=download&authuser=0\n",
            "Resolving doc-0g-08-docs.googleusercontent.com (doc-0g-08-docs.googleusercontent.com)... 142.250.153.132, 2a00:1450:4013:c16::84\n",
            "Connecting to doc-0g-08-docs.googleusercontent.com (doc-0g-08-docs.googleusercontent.com)|142.250.153.132|:443... connected.\n",
            "HTTP request sent, awaiting response... 200 OK\n",
            "Length: 1647046227 (1.5G) [application/x-gzip]\n",
            "Saving to: ‘GoogleNews-vectors-negative300.bin.gz’\n",
            "\n",
            "GoogleNews-vectors- 100%[===================>]   1.53G  42.1MB/s    in 35s     \n",
            "\n",
            "2022-01-12 04:57:48 (44.3 MB/s) - ‘GoogleNews-vectors-negative300.bin.gz’ saved [1647046227/1647046227]\n",
            "\n"
          ]
        }
      ]
    },
    {
      "cell_type": "code",
      "execution_count": 6,
      "id": "79601140",
      "metadata": {
        "colab": {
          "base_uri": "https://localhost:8080/"
        },
        "id": "79601140",
        "outputId": "190642cb-b56b-43e7-82c7-18f3893e9ccf"
      },
      "outputs": [
        {
          "output_type": "stream",
          "name": "stdout",
          "text": [
            "Archive:  glove.840B.300d.zip\n",
            "  inflating: glove.840B.300d.txt     \n",
            "Archive:  paragram_300_sl999.zip\n",
            "   creating: paragram_300_sl999/\n",
            "  inflating: paragram_300_sl999/paragram_300_sl999.txt  \n",
            "  inflating: paragram_300_sl999/README.txt  \n",
            "   creating: __MACOSX/\n",
            "   creating: __MACOSX/paragram_300_sl999/\n",
            "  inflating: __MACOSX/paragram_300_sl999/._README.txt  \n",
            "Archive:  wiki-news-300d-1M.vec.zip\n",
            "  inflating: wiki-news-300d-1M.vec   \n"
          ]
        }
      ],
      "source": [
        "!unzip glove.840B.300d.zip\n",
        "!unzip paragram_300_sl999.zip\n",
        "!unzip wiki-news-300d-1M.vec.zip"
      ]
    },
    {
      "cell_type": "code",
      "execution_count": 7,
      "id": "0d6c39b2",
      "metadata": {
        "id": "0d6c39b2"
      },
      "outputs": [],
      "source": [
        "import pandas as pd\n",
        "import numpy as np\n",
        "import matplotlib.pyplot as plt\n",
        "import seaborn as sns\n",
        "\n",
        "import time\n",
        "from tqdm import tqdm, tqdm_notebook\n",
        "#tqdm_notebook().pandas()\n",
        "\n",
        "import warnings\n",
        "warnings.filterwarnings('ignore')\n",
        "\n",
        "from sklearn.feature_extraction.text import CountVectorizer\n",
        "from sklearn.feature_extraction.text import TfidfVectorizer\n",
        "from sklearn.preprocessing import StandardScaler\n",
        "\n",
        "from sklearn.model_selection import train_test_split\n",
        "\n",
        "from sklearn.calibration import CalibratedClassifierCV\n",
        "from sklearn.model_selection import RandomizedSearchCV\n",
        "from sklearn.model_selection import GridSearchCV\n",
        "\n",
        "from sklearn.linear_model import LogisticRegression\n",
        "from sklearn.naive_bayes import MultinomialNB , GaussianNB, ComplementNB\n",
        "from sklearn.ensemble import StackingClassifier\n",
        "from sklearn.ensemble import RandomForestClassifier\n",
        "\n",
        "from sklearn.metrics import make_scorer\n",
        "from sklearn.metrics import roc_auc_score\n",
        "from sklearn.metrics import log_loss\n",
        "from sklearn.metrics import f1_score\n",
        "\n",
        "from sklearn.metrics import classification_report\n",
        "from sklearn.metrics import plot_confusion_matrix\n",
        "\n",
        "from gensim import models\n",
        "\n",
        "#from scipy.stats import uniform\n",
        "\n"
      ]
    },
    {
      "cell_type": "markdown",
      "source": [
        " ##### Loading Data"
      ],
      "metadata": {
        "id": "4Chbh5TeGIv0"
      },
      "id": "4Chbh5TeGIv0"
    },
    {
      "cell_type": "code",
      "execution_count": 8,
      "id": "2d9f0cb4",
      "metadata": {
        "colab": {
          "base_uri": "https://localhost:8080/"
        },
        "id": "2d9f0cb4",
        "outputId": "29550995-9697-4d53-d9d4-f30a8c599980"
      },
      "outputs": [
        {
          "output_type": "stream",
          "name": "stdout",
          "text": [
            "Index(['Unnamed: 0', 'qid', 'question_text', 'target', 'prcsd_txt', 'txtcvrg'], dtype='object')\n",
            "(1306122, 6)\n",
            "-----------------\n",
            "Index(['Unnamed: 0', 'qid', 'question_text', 'target', 'qtnlen', 'unqwrds',\n",
            "       'punct', 'nmbrs', 'unqwrds_qtnlen', 'punct_qtnlen', 'nmbrs_qtnlen',\n",
            "       'nouns', 'adjs', 'verbs', 'gpe', 'norp', 'org', 'person'],\n",
            "      dtype='object')\n",
            "(1306122, 18)\n"
          ]
        }
      ],
      "source": [
        "df1 = pd.read_csv('/content/drive/MyDrive/QIS/qis_prcsdtxt_df') # has processed question texts\n",
        "df2 = pd.read_csv('/content/drive/MyDrive/QIS/qis_features.csv') # has engineered features\n",
        "\n",
        "\n",
        "print(df1.columns)\n",
        "print(df1.shape)\n",
        "print(\"-----------------\")\n",
        "print(df2.columns)\n",
        "print(df2.shape)"
      ]
    },
    {
      "cell_type": "code",
      "execution_count": 9,
      "id": "2ddf9a20",
      "metadata": {
        "colab": {
          "base_uri": "https://localhost:8080/"
        },
        "id": "2ddf9a20",
        "outputId": "796232f6-7d1b-461f-f106-6cb5fdec32bd"
      },
      "outputs": [
        {
          "output_type": "stream",
          "name": "stdout",
          "text": [
            "(1306122, 19)\n",
            "Index(['qid', 'question_text', 'target', 'prcsd_txt', 'txtcvrg', 'qtnlen',\n",
            "       'unqwrds', 'punct', 'nmbrs', 'unqwrds_qtnlen', 'punct_qtnlen',\n",
            "       'nmbrs_qtnlen', 'nouns', 'adjs', 'verbs', 'gpe', 'norp', 'org',\n",
            "       'person'],\n",
            "      dtype='object')\n"
          ]
        }
      ],
      "source": [
        "df3 = pd.concat([df1.iloc[:,1:6],df2.iloc[:,4:]],axis=1)\n",
        "print(df3.shape)\n",
        "print(df3.columns)"
      ]
    },
    {
      "cell_type": "code",
      "execution_count": 10,
      "id": "08d64ca3",
      "metadata": {
        "id": "08d64ca3"
      },
      "outputs": [],
      "source": [
        "del df1\n",
        "del df2"
      ]
    },
    {
      "cell_type": "code",
      "execution_count": 11,
      "id": "3e46beaa",
      "metadata": {
        "colab": {
          "base_uri": "https://localhost:8080/"
        },
        "id": "3e46beaa",
        "outputId": "92c7a7c6-167b-48c2-942b-f14db00f84ce"
      },
      "outputs": [
        {
          "output_type": "stream",
          "name": "stdout",
          "text": [
            "(500000, 19)\n",
            "(80810, 19)\n"
          ]
        }
      ],
      "source": [
        "df_0 = df3[df3['target']==0]\n",
        "df_0 = df_0.sample(500000) # sampling of sincere data\n",
        "print(df_0.shape)\n",
        "\n",
        "#rnd_indx0 = np.random.random_sample()\n",
        "\n",
        "df_1 = df3[df3['target']==1]\n",
        "print(df_1.shape)"
      ]
    },
    {
      "cell_type": "code",
      "execution_count": 12,
      "id": "e4830efe",
      "metadata": {
        "colab": {
          "base_uri": "https://localhost:8080/"
        },
        "id": "e4830efe",
        "outputId": "92d2641d-4d96-4820-b67f-509fdbf7f17e"
      },
      "outputs": [
        {
          "output_type": "stream",
          "name": "stdout",
          "text": [
            "0    500000\n",
            "1     80810\n",
            "Name: target, dtype: int64\n"
          ]
        }
      ],
      "source": [
        "df_smpld = pd.concat([df_0,df_1],axis=0)\n",
        "#print(df_smpld[['qid','target']])\n",
        "df_smpld = df_smpld.sample(frac=1).reset_index(drop=True)\n",
        "print(df_smpld['target'].value_counts())"
      ]
    },
    {
      "cell_type": "code",
      "execution_count": null,
      "id": "df92ed6e",
      "metadata": {
        "colab": {
          "base_uri": "https://localhost:8080/",
          "height": 312
        },
        "id": "df92ed6e",
        "outputId": "fce0aba1-4628-44bf-d9fa-f8cdbeee0804"
      },
      "outputs": [
        {
          "output_type": "execute_result",
          "data": {
            "text/html": [
              "\n",
              "  <div id=\"df-cd1bc2ee-de5d-4638-acd2-b602c5bf1a4d\">\n",
              "    <div class=\"colab-df-container\">\n",
              "      <div>\n",
              "<style scoped>\n",
              "    .dataframe tbody tr th:only-of-type {\n",
              "        vertical-align: middle;\n",
              "    }\n",
              "\n",
              "    .dataframe tbody tr th {\n",
              "        vertical-align: top;\n",
              "    }\n",
              "\n",
              "    .dataframe thead th {\n",
              "        text-align: right;\n",
              "    }\n",
              "</style>\n",
              "<table border=\"1\" class=\"dataframe\">\n",
              "  <thead>\n",
              "    <tr style=\"text-align: right;\">\n",
              "      <th></th>\n",
              "      <th>qid</th>\n",
              "      <th>question_text</th>\n",
              "      <th>target</th>\n",
              "      <th>prcsd_txt</th>\n",
              "      <th>txtcvrg</th>\n",
              "      <th>qtnlen</th>\n",
              "      <th>unqwrds</th>\n",
              "      <th>punct</th>\n",
              "      <th>nmbrs</th>\n",
              "      <th>unqwrds_qtnlen</th>\n",
              "      <th>punct_qtnlen</th>\n",
              "      <th>nmbrs_qtnlen</th>\n",
              "      <th>nouns</th>\n",
              "      <th>adjs</th>\n",
              "      <th>verbs</th>\n",
              "      <th>gpe</th>\n",
              "      <th>norp</th>\n",
              "      <th>org</th>\n",
              "      <th>person</th>\n",
              "    </tr>\n",
              "  </thead>\n",
              "  <tbody>\n",
              "    <tr>\n",
              "      <th>0</th>\n",
              "      <td>329f524a06de9fff042c</td>\n",
              "      <td>Why is Futurama so obsessed with Richard Nixon?</td>\n",
              "      <td>0</td>\n",
              "      <td>why is futurama so obsessed with richard nixon ?</td>\n",
              "      <td>90.0</td>\n",
              "      <td>47</td>\n",
              "      <td>8</td>\n",
              "      <td>1</td>\n",
              "      <td>0</td>\n",
              "      <td>0.170213</td>\n",
              "      <td>0.021277</td>\n",
              "      <td>0.0</td>\n",
              "      <td>0</td>\n",
              "      <td>0</td>\n",
              "      <td>2</td>\n",
              "      <td>1</td>\n",
              "      <td>0</td>\n",
              "      <td>0</td>\n",
              "      <td>1</td>\n",
              "    </tr>\n",
              "    <tr>\n",
              "      <th>1</th>\n",
              "      <td>a214ea79e48899a64ab5</td>\n",
              "      <td>How could we get enrollment report?</td>\n",
              "      <td>0</td>\n",
              "      <td>how could we get enrollment report ?</td>\n",
              "      <td>88.0</td>\n",
              "      <td>35</td>\n",
              "      <td>6</td>\n",
              "      <td>1</td>\n",
              "      <td>0</td>\n",
              "      <td>0.171429</td>\n",
              "      <td>0.028571</td>\n",
              "      <td>0.0</td>\n",
              "      <td>2</td>\n",
              "      <td>0</td>\n",
              "      <td>2</td>\n",
              "      <td>0</td>\n",
              "      <td>0</td>\n",
              "      <td>0</td>\n",
              "      <td>0</td>\n",
              "    </tr>\n",
              "  </tbody>\n",
              "</table>\n",
              "</div>\n",
              "      <button class=\"colab-df-convert\" onclick=\"convertToInteractive('df-cd1bc2ee-de5d-4638-acd2-b602c5bf1a4d')\"\n",
              "              title=\"Convert this dataframe to an interactive table.\"\n",
              "              style=\"display:none;\">\n",
              "        \n",
              "  <svg xmlns=\"http://www.w3.org/2000/svg\" height=\"24px\"viewBox=\"0 0 24 24\"\n",
              "       width=\"24px\">\n",
              "    <path d=\"M0 0h24v24H0V0z\" fill=\"none\"/>\n",
              "    <path d=\"M18.56 5.44l.94 2.06.94-2.06 2.06-.94-2.06-.94-.94-2.06-.94 2.06-2.06.94zm-11 1L8.5 8.5l.94-2.06 2.06-.94-2.06-.94L8.5 2.5l-.94 2.06-2.06.94zm10 10l.94 2.06.94-2.06 2.06-.94-2.06-.94-.94-2.06-.94 2.06-2.06.94z\"/><path d=\"M17.41 7.96l-1.37-1.37c-.4-.4-.92-.59-1.43-.59-.52 0-1.04.2-1.43.59L10.3 9.45l-7.72 7.72c-.78.78-.78 2.05 0 2.83L4 21.41c.39.39.9.59 1.41.59.51 0 1.02-.2 1.41-.59l7.78-7.78 2.81-2.81c.8-.78.8-2.07 0-2.86zM5.41 20L4 18.59l7.72-7.72 1.47 1.35L5.41 20z\"/>\n",
              "  </svg>\n",
              "      </button>\n",
              "      \n",
              "  <style>\n",
              "    .colab-df-container {\n",
              "      display:flex;\n",
              "      flex-wrap:wrap;\n",
              "      gap: 12px;\n",
              "    }\n",
              "\n",
              "    .colab-df-convert {\n",
              "      background-color: #E8F0FE;\n",
              "      border: none;\n",
              "      border-radius: 50%;\n",
              "      cursor: pointer;\n",
              "      display: none;\n",
              "      fill: #1967D2;\n",
              "      height: 32px;\n",
              "      padding: 0 0 0 0;\n",
              "      width: 32px;\n",
              "    }\n",
              "\n",
              "    .colab-df-convert:hover {\n",
              "      background-color: #E2EBFA;\n",
              "      box-shadow: 0px 1px 2px rgba(60, 64, 67, 0.3), 0px 1px 3px 1px rgba(60, 64, 67, 0.15);\n",
              "      fill: #174EA6;\n",
              "    }\n",
              "\n",
              "    [theme=dark] .colab-df-convert {\n",
              "      background-color: #3B4455;\n",
              "      fill: #D2E3FC;\n",
              "    }\n",
              "\n",
              "    [theme=dark] .colab-df-convert:hover {\n",
              "      background-color: #434B5C;\n",
              "      box-shadow: 0px 1px 3px 1px rgba(0, 0, 0, 0.15);\n",
              "      filter: drop-shadow(0px 1px 2px rgba(0, 0, 0, 0.3));\n",
              "      fill: #FFFFFF;\n",
              "    }\n",
              "  </style>\n",
              "\n",
              "      <script>\n",
              "        const buttonEl =\n",
              "          document.querySelector('#df-cd1bc2ee-de5d-4638-acd2-b602c5bf1a4d button.colab-df-convert');\n",
              "        buttonEl.style.display =\n",
              "          google.colab.kernel.accessAllowed ? 'block' : 'none';\n",
              "\n",
              "        async function convertToInteractive(key) {\n",
              "          const element = document.querySelector('#df-cd1bc2ee-de5d-4638-acd2-b602c5bf1a4d');\n",
              "          const dataTable =\n",
              "            await google.colab.kernel.invokeFunction('convertToInteractive',\n",
              "                                                     [key], {});\n",
              "          if (!dataTable) return;\n",
              "\n",
              "          const docLinkHtml = 'Like what you see? Visit the ' +\n",
              "            '<a target=\"_blank\" href=https://colab.research.google.com/notebooks/data_table.ipynb>data table notebook</a>'\n",
              "            + ' to learn more about interactive tables.';\n",
              "          element.innerHTML = '';\n",
              "          dataTable['output_type'] = 'display_data';\n",
              "          await google.colab.output.renderOutput(dataTable, element);\n",
              "          const docLink = document.createElement('div');\n",
              "          docLink.innerHTML = docLinkHtml;\n",
              "          element.appendChild(docLink);\n",
              "        }\n",
              "      </script>\n",
              "    </div>\n",
              "  </div>\n",
              "  "
            ],
            "text/plain": [
              "                    qid  ... person\n",
              "0  329f524a06de9fff042c  ...      1\n",
              "1  a214ea79e48899a64ab5  ...      0\n",
              "\n",
              "[2 rows x 19 columns]"
            ]
          },
          "metadata": {},
          "execution_count": 7
        }
      ],
      "source": [
        "df_smpld.head(2)"
      ]
    },
    {
      "cell_type": "code",
      "execution_count": 13,
      "id": "89001d1c",
      "metadata": {
        "id": "89001d1c"
      },
      "outputs": [],
      "source": [
        "del df_0\n",
        "del df_1"
      ]
    },
    {
      "cell_type": "markdown",
      "id": "c1fcc1ca",
      "metadata": {
        "id": "c1fcc1ca"
      },
      "source": [
        "##### Embeddings"
      ]
    },
    {
      "cell_type": "code",
      "execution_count": 14,
      "id": "c4478ceb",
      "metadata": {
        "colab": {
          "base_uri": "https://localhost:8080/"
        },
        "id": "c4478ceb",
        "outputId": "d0a98f05-575a-419d-9bae-c8d5afcbd15f"
      },
      "outputs": [
        {
          "output_type": "stream",
          "name": "stdout",
          "text": [
            "Glove finished in 155.813s.\n",
            "Fasttext finished in 126.448s.\n",
            "Wiki finished in 70.477s.\n"
          ]
        }
      ],
      "source": [
        "# Extract Embeddings \n",
        "\n",
        "from time import time\n",
        "\n",
        "def get_coefs(word,*arr):\n",
        "    \n",
        "    try:\n",
        "        return word, np.asarray(arr,\"float32\")\n",
        "    except:\n",
        "        print(word)\n",
        "        print(\"-----------\")\n",
        "\n",
        "t0 = time()\n",
        "wvglv = dict(get_coefs(*o.split(\" \")) for o in open('/content/glove.840B.300d.txt',errors='ignore'))\n",
        "print(\"Glove finished in %0.3fs.\" % (time() - t0))\n",
        "\n",
        "t0 = time()\n",
        "wvfst = dict(get_coefs(*o.split(\" \")) for o in open('/content/paragram_300_sl999/paragram_300_sl999.txt',errors='ignore'))\n",
        "print(\"Fasttext finished in %0.3fs.\" % (time() - t0))\n",
        "\n",
        "\n",
        "t0 = time()\n",
        "wvwiki = dict(get_coefs(*o.split(\" \")) for o in open('/content/wiki-news-300d-1M.vec',errors='ignore'))\n",
        "print(\"Wiki finished in %0.3fs.\" % (time() - t0))\n",
        "\n",
        "#print(\"\\nstart:\",time.ctime())\n",
        "#embeddings_gnws = dict(get_coefs(*o.split(\" \")) for o in open('GoogleNews-vectors-negative300.bin',errors='ignore'))\n",
        "#print(\"end:\",time.ctime())"
      ]
    },
    {
      "cell_type": "code",
      "execution_count": 15,
      "id": "f5978f92",
      "metadata": {
        "id": "f5978f92",
        "colab": {
          "base_uri": "https://localhost:8080/"
        },
        "outputId": "2021036c-bbab-45bb-fa49-d0861302ca4c"
      },
      "outputs": [
        {
          "output_type": "stream",
          "name": "stdout",
          "text": [
            "Google news finished in 125.826s.\n"
          ]
        }
      ],
      "source": [
        "t0 = time()\n",
        "wvgn = models.KeyedVectors.load_word2vec_format('/content/GoogleNews-vectors-negative300.bin.gz', binary=True)\n",
        "print(\"Google news finished in %0.3fs.\" % (time() - t0))\n",
        "\n",
        "#wvwiki = models.KeyedVectors.load_word2vec_format('wiki-news-300d-1M.vec',encoding='latin')\n",
        "\n",
        "#print(\"wvglv:\",wvglv.shape)\n",
        "#print(\"wvfst:\",wvfst.shape)\n",
        "#print(\"wvwiki:\",wvwiki.shape)\n",
        "#print(\"wvgn:\",wvgn.vectors.shape)\n",
        "\n"
      ]
    },
    {
      "cell_type": "code",
      "source": [
        ""
      ],
      "metadata": {
        "id": "kWI9LUy1DP96"
      },
      "id": "kWI9LUy1DP96",
      "execution_count": null,
      "outputs": []
    },
    {
      "cell_type": "markdown",
      "source": [
        "##### Data Vectorization and Standardization"
      ],
      "metadata": {
        "id": "ikUS5DMyDQ_X"
      },
      "id": "ikUS5DMyDQ_X"
    },
    {
      "cell_type": "code",
      "execution_count": 16,
      "id": "5e57430e",
      "metadata": {
        "id": "5e57430e"
      },
      "outputs": [],
      "source": [
        "#np_gn = np.zeros((len(df_smpld),300))\n",
        "#np_paragram = np.zeros((len(df_smpld),300))\n",
        "#np_wiki = np.zeros((len(df_smpld),300))\n",
        "np_vctr = np.zeros((len(df_smpld),300)) # array to hold data vector"
      ]
    },
    {
      "cell_type": "code",
      "execution_count": 17,
      "id": "2b669a40",
      "metadata": {
        "id": "2b669a40",
        "colab": {
          "base_uri": "https://localhost:8080/"
        },
        "outputId": "3f09a7ef-ff7b-4d58-980e-e1d156388a05"
      },
      "outputs": [
        {
          "output_type": "stream",
          "name": "stdout",
          "text": [
            "Build data vector finished in 138.11s\n"
          ]
        }
      ],
      "source": [
        "# Building data vector\n",
        "\n",
        "t0= time()\n",
        "\n",
        "for i in range(0,len(df_smpld)):\n",
        "    \n",
        "    txt = str(df_smpld.loc[i,'prcsd_txt'])\n",
        "    \n",
        "    ngn = np.zeros((1,300))\n",
        "    nw = np.zeros((1,300))\n",
        "    nglv = np.zeros((1,300))\n",
        "    nfst = np.zeros((1,300))\n",
        "    \n",
        "    cntglv=cntw=cntgn=cntfst=0\n",
        "\n",
        "    for wrd in txt.split(\" \"):\n",
        "        if wrd in wvglv.keys():\n",
        "            nglv = wvglv[wrd] + nglv \n",
        "            cntglv = cntglv+1 \n",
        "        if wrd in wvfst.keys():\n",
        "            nfst = wvfst[wrd] + nfst \n",
        "            cntfst = cntfst+1     \n",
        "        if wrd in wvwiki.keys():\n",
        "            nw = wvwiki[wrd] + nw\n",
        "            cntw = cntw+1\n",
        "        if wrd in wvgn.vocab.keys():\n",
        "            ngn = wvgn[wrd] + ngn\n",
        "            cntgn = cntgn+1\n",
        "            \n",
        "    np_vctr[i] =  (nglv/cntglv + nfst/cntfst + nw/cntw + ngn/cntgn)/4\n",
        "    #np_vctr[i] =  np.hstack((nglv/cntglv,nfst/cntfst,nw/cntw)) #nglv/cntglv,ngn/cntgn\n",
        "    #np_wiki[i] =   nw/cntw\n",
        "    #np_paragram[i] = np1/cntp\n",
        "\n",
        "print(\"Build data vector finished in %0.2fs\" %(time()-t0))"
      ]
    },
    {
      "cell_type": "code",
      "execution_count": 18,
      "id": "a8377733",
      "metadata": {
        "id": "a8377733"
      },
      "outputs": [],
      "source": [
        "del wvwiki\n",
        "del wvglv\n",
        "del wvfst\n",
        "del wvgn"
      ]
    },
    {
      "cell_type": "code",
      "execution_count": 19,
      "id": "f1460309",
      "metadata": {
        "colab": {
          "base_uri": "https://localhost:8080/"
        },
        "id": "f1460309",
        "outputId": "6884d334-2d33-49ba-cd3a-2ad8cc529386"
      },
      "outputs": [
        {
          "output_type": "stream",
          "name": "stdout",
          "text": [
            "(580810, 300)\n"
          ]
        }
      ],
      "source": [
        "#print(np_gn.shape)\n",
        "#print(np_wiki.shape)\n",
        "#print(np_paragram.shape)\n",
        "print(np_vctr.shape)"
      ]
    },
    {
      "cell_type": "code",
      "execution_count": null,
      "id": "4fc296a2",
      "metadata": {
        "id": "4fc296a2",
        "colab": {
          "base_uri": "https://localhost:8080/"
        },
        "outputId": "de8f8e1f-7322-48d2-b6b0-7549954ad2a1"
      },
      "outputs": [
        {
          "output_type": "execute_result",
          "data": {
            "text/plain": [
              "(array([  4650,  53391, 108576, 190435, 224777, 286168, 460696, 472645,\n",
              "        514777]),)"
            ]
          },
          "metadata": {},
          "execution_count": 26
        }
      ],
      "source": [
        "np.where(np.isnan(np_vctr).sum(axis=1)!=0) # checking  for NaN rows"
      ]
    },
    {
      "cell_type": "code",
      "execution_count": null,
      "id": "6981a904",
      "metadata": {
        "id": "6981a904"
      },
      "outputs": [],
      "source": [
        "#https://stackoverflow.com/questions/18689235/numpy-array-replace-nan-values-with-average-of-columns\n",
        "#import numpy.ma as ma\n",
        "#np_wiki = np.where(np.isnan(np_wiki), ma.array(np_wiki, mask=np.isnan(np_wiki)).mean(axis=0), np_wiki)\n",
        "#np_vctr = np.where(np.isnan(np_vctr), ma.array(np_vctr, mask=np.isnan(np_vctr)).mean(axis=0), np_vctr) # NaNs to column Mean"
      ]
    },
    {
      "cell_type": "code",
      "execution_count": 20,
      "id": "295e9f0e",
      "metadata": {
        "id": "295e9f0e"
      },
      "outputs": [],
      "source": [
        "np_vctr = np.nan_to_num(np_vctr) # NaNs to Zeros"
      ]
    },
    {
      "cell_type": "code",
      "execution_count": null,
      "id": "574c3b49",
      "metadata": {
        "id": "574c3b49",
        "colab": {
          "base_uri": "https://localhost:8080/"
        },
        "outputId": "52350943-8f85-4f72-959b-9a9a08b33464"
      },
      "outputs": [
        {
          "output_type": "stream",
          "name": "stdout",
          "text": [
            "1.3212415063753724\n",
            "-1.1888038330944255\n"
          ]
        }
      ],
      "source": [
        "#print(np.max(np_wiki))\n",
        "#print(np.min(np_wiki))\n",
        "print(np.max(np_vctr))\n",
        "print(np.min(np_vctr))"
      ]
    },
    {
      "cell_type": "code",
      "execution_count": null,
      "id": "7a3f4d13",
      "metadata": {
        "id": "7a3f4d13",
        "colab": {
          "base_uri": "https://localhost:8080/"
        },
        "outputId": "43a32970-5783-4efd-b2b0-cd088079bd12"
      },
      "outputs": [
        {
          "output_type": "execute_result",
          "data": {
            "text/plain": [
              "False"
            ]
          },
          "metadata": {},
          "execution_count": 29
        }
      ],
      "source": [
        "#np.isnan(np_wiki).any()\n",
        "np.isnan(np_vctr).any()"
      ]
    },
    {
      "cell_type": "code",
      "execution_count": null,
      "id": "f14c800a",
      "metadata": {
        "id": "f14c800a"
      },
      "outputs": [],
      "source": [
        "df_smpld.columns"
      ]
    },
    {
      "cell_type": "code",
      "execution_count": 89,
      "id": "69a11123",
      "metadata": {
        "id": "69a11123"
      },
      "outputs": [],
      "source": [
        "df_vctr = pd.DataFrame(np_vctr)\n",
        "data2 = pd.concat([df_vctr,df_smpld.iloc[:,9:]],axis=1) # Concat data vector and engineered features"
      ]
    },
    {
      "cell_type": "code",
      "execution_count": 90,
      "id": "db483da1",
      "metadata": {
        "id": "db483da1",
        "colab": {
          "base_uri": "https://localhost:8080/"
        },
        "outputId": "57c09810-fb56-47d8-dfe5-c3da281a1ce7"
      },
      "outputs": [
        {
          "output_type": "stream",
          "name": "stdout",
          "text": [
            "(580810, 310)\n"
          ]
        }
      ],
      "source": [
        "print(data2.shape)"
      ]
    },
    {
      "cell_type": "code",
      "source": [
        "data2.head(2)"
      ],
      "metadata": {
        "colab": {
          "base_uri": "https://localhost:8080/",
          "height": 206
        },
        "id": "o95Eqoryd5wF",
        "outputId": "5ab47adf-2011-4f8d-e5b9-97531e6540d2"
      },
      "id": "o95Eqoryd5wF",
      "execution_count": 22,
      "outputs": [
        {
          "output_type": "execute_result",
          "data": {
            "text/html": [
              "\n",
              "  <div id=\"df-351b77ec-9553-485c-956d-acc7eab654c8\">\n",
              "    <div class=\"colab-df-container\">\n",
              "      <div>\n",
              "<style scoped>\n",
              "    .dataframe tbody tr th:only-of-type {\n",
              "        vertical-align: middle;\n",
              "    }\n",
              "\n",
              "    .dataframe tbody tr th {\n",
              "        vertical-align: top;\n",
              "    }\n",
              "\n",
              "    .dataframe thead th {\n",
              "        text-align: right;\n",
              "    }\n",
              "</style>\n",
              "<table border=\"1\" class=\"dataframe\">\n",
              "  <thead>\n",
              "    <tr style=\"text-align: right;\">\n",
              "      <th></th>\n",
              "      <th>0</th>\n",
              "      <th>1</th>\n",
              "      <th>2</th>\n",
              "      <th>3</th>\n",
              "      <th>4</th>\n",
              "      <th>5</th>\n",
              "      <th>6</th>\n",
              "      <th>7</th>\n",
              "      <th>8</th>\n",
              "      <th>9</th>\n",
              "      <th>10</th>\n",
              "      <th>11</th>\n",
              "      <th>12</th>\n",
              "      <th>13</th>\n",
              "      <th>14</th>\n",
              "      <th>15</th>\n",
              "      <th>16</th>\n",
              "      <th>17</th>\n",
              "      <th>18</th>\n",
              "      <th>19</th>\n",
              "      <th>20</th>\n",
              "      <th>21</th>\n",
              "      <th>22</th>\n",
              "      <th>23</th>\n",
              "      <th>24</th>\n",
              "      <th>25</th>\n",
              "      <th>26</th>\n",
              "      <th>27</th>\n",
              "      <th>28</th>\n",
              "      <th>29</th>\n",
              "      <th>30</th>\n",
              "      <th>31</th>\n",
              "      <th>32</th>\n",
              "      <th>33</th>\n",
              "      <th>34</th>\n",
              "      <th>35</th>\n",
              "      <th>36</th>\n",
              "      <th>37</th>\n",
              "      <th>38</th>\n",
              "      <th>39</th>\n",
              "      <th>...</th>\n",
              "      <th>270</th>\n",
              "      <th>271</th>\n",
              "      <th>272</th>\n",
              "      <th>273</th>\n",
              "      <th>274</th>\n",
              "      <th>275</th>\n",
              "      <th>276</th>\n",
              "      <th>277</th>\n",
              "      <th>278</th>\n",
              "      <th>279</th>\n",
              "      <th>280</th>\n",
              "      <th>281</th>\n",
              "      <th>282</th>\n",
              "      <th>283</th>\n",
              "      <th>284</th>\n",
              "      <th>285</th>\n",
              "      <th>286</th>\n",
              "      <th>287</th>\n",
              "      <th>288</th>\n",
              "      <th>289</th>\n",
              "      <th>290</th>\n",
              "      <th>291</th>\n",
              "      <th>292</th>\n",
              "      <th>293</th>\n",
              "      <th>294</th>\n",
              "      <th>295</th>\n",
              "      <th>296</th>\n",
              "      <th>297</th>\n",
              "      <th>298</th>\n",
              "      <th>299</th>\n",
              "      <th>unqwrds_qtnlen</th>\n",
              "      <th>punct_qtnlen</th>\n",
              "      <th>nmbrs_qtnlen</th>\n",
              "      <th>nouns</th>\n",
              "      <th>adjs</th>\n",
              "      <th>verbs</th>\n",
              "      <th>gpe</th>\n",
              "      <th>norp</th>\n",
              "      <th>org</th>\n",
              "      <th>person</th>\n",
              "    </tr>\n",
              "  </thead>\n",
              "  <tbody>\n",
              "    <tr>\n",
              "      <th>0</th>\n",
              "      <td>-0.001328</td>\n",
              "      <td>0.091650</td>\n",
              "      <td>-0.009184</td>\n",
              "      <td>-0.064808</td>\n",
              "      <td>-0.041970</td>\n",
              "      <td>-0.020994</td>\n",
              "      <td>0.103919</td>\n",
              "      <td>-0.005951</td>\n",
              "      <td>-0.010836</td>\n",
              "      <td>1.030967</td>\n",
              "      <td>-0.129532</td>\n",
              "      <td>0.007240</td>\n",
              "      <td>0.105983</td>\n",
              "      <td>0.031377</td>\n",
              "      <td>-0.073716</td>\n",
              "      <td>0.003813</td>\n",
              "      <td>-0.072501</td>\n",
              "      <td>0.557027</td>\n",
              "      <td>-0.057776</td>\n",
              "      <td>-0.103031</td>\n",
              "      <td>0.013617</td>\n",
              "      <td>-0.043416</td>\n",
              "      <td>-0.102810</td>\n",
              "      <td>0.025575</td>\n",
              "      <td>0.091921</td>\n",
              "      <td>-0.026846</td>\n",
              "      <td>-0.069773</td>\n",
              "      <td>-0.057438</td>\n",
              "      <td>0.025609</td>\n",
              "      <td>-0.027663</td>\n",
              "      <td>0.001286</td>\n",
              "      <td>-0.012420</td>\n",
              "      <td>0.042854</td>\n",
              "      <td>0.096149</td>\n",
              "      <td>0.145168</td>\n",
              "      <td>-0.040009</td>\n",
              "      <td>0.013574</td>\n",
              "      <td>0.000626</td>\n",
              "      <td>-0.072863</td>\n",
              "      <td>-0.150493</td>\n",
              "      <td>...</td>\n",
              "      <td>0.086889</td>\n",
              "      <td>0.009801</td>\n",
              "      <td>-0.048679</td>\n",
              "      <td>0.057174</td>\n",
              "      <td>0.026908</td>\n",
              "      <td>0.042609</td>\n",
              "      <td>-0.124342</td>\n",
              "      <td>-0.025459</td>\n",
              "      <td>0.038773</td>\n",
              "      <td>0.118565</td>\n",
              "      <td>0.119885</td>\n",
              "      <td>0.039178</td>\n",
              "      <td>0.054095</td>\n",
              "      <td>-0.052973</td>\n",
              "      <td>-0.003385</td>\n",
              "      <td>-0.027784</td>\n",
              "      <td>0.030967</td>\n",
              "      <td>0.047590</td>\n",
              "      <td>0.115891</td>\n",
              "      <td>-0.074806</td>\n",
              "      <td>-0.065360</td>\n",
              "      <td>0.006920</td>\n",
              "      <td>0.019556</td>\n",
              "      <td>-0.077224</td>\n",
              "      <td>0.057629</td>\n",
              "      <td>0.078322</td>\n",
              "      <td>0.029553</td>\n",
              "      <td>-0.057373</td>\n",
              "      <td>0.056200</td>\n",
              "      <td>0.057928</td>\n",
              "      <td>0.182927</td>\n",
              "      <td>0.012195</td>\n",
              "      <td>0.0</td>\n",
              "      <td>5</td>\n",
              "      <td>2</td>\n",
              "      <td>4</td>\n",
              "      <td>0</td>\n",
              "      <td>0</td>\n",
              "      <td>0</td>\n",
              "      <td>0</td>\n",
              "    </tr>\n",
              "    <tr>\n",
              "      <th>1</th>\n",
              "      <td>-0.139165</td>\n",
              "      <td>0.073613</td>\n",
              "      <td>-0.067848</td>\n",
              "      <td>-0.003678</td>\n",
              "      <td>-0.110782</td>\n",
              "      <td>0.043946</td>\n",
              "      <td>0.147969</td>\n",
              "      <td>-0.000234</td>\n",
              "      <td>-0.018653</td>\n",
              "      <td>0.864760</td>\n",
              "      <td>-0.050434</td>\n",
              "      <td>0.048416</td>\n",
              "      <td>0.091083</td>\n",
              "      <td>0.108753</td>\n",
              "      <td>0.056704</td>\n",
              "      <td>0.133701</td>\n",
              "      <td>-0.095522</td>\n",
              "      <td>0.570330</td>\n",
              "      <td>-0.025721</td>\n",
              "      <td>0.047158</td>\n",
              "      <td>-0.136162</td>\n",
              "      <td>-0.064629</td>\n",
              "      <td>-0.055974</td>\n",
              "      <td>0.016349</td>\n",
              "      <td>0.148754</td>\n",
              "      <td>-0.054019</td>\n",
              "      <td>-0.032065</td>\n",
              "      <td>0.088188</td>\n",
              "      <td>0.075203</td>\n",
              "      <td>0.038212</td>\n",
              "      <td>-0.184655</td>\n",
              "      <td>0.026704</td>\n",
              "      <td>0.099870</td>\n",
              "      <td>0.082662</td>\n",
              "      <td>0.222429</td>\n",
              "      <td>0.055630</td>\n",
              "      <td>0.096584</td>\n",
              "      <td>-0.052312</td>\n",
              "      <td>-0.042462</td>\n",
              "      <td>-0.029697</td>\n",
              "      <td>...</td>\n",
              "      <td>0.049391</td>\n",
              "      <td>0.004173</td>\n",
              "      <td>0.063151</td>\n",
              "      <td>0.037702</td>\n",
              "      <td>-0.169704</td>\n",
              "      <td>0.075007</td>\n",
              "      <td>-0.043552</td>\n",
              "      <td>-0.010519</td>\n",
              "      <td>0.053317</td>\n",
              "      <td>0.170443</td>\n",
              "      <td>0.165287</td>\n",
              "      <td>0.136810</td>\n",
              "      <td>0.043315</td>\n",
              "      <td>-0.087004</td>\n",
              "      <td>0.093180</td>\n",
              "      <td>0.024854</td>\n",
              "      <td>0.056930</td>\n",
              "      <td>-0.107544</td>\n",
              "      <td>0.027072</td>\n",
              "      <td>-0.059870</td>\n",
              "      <td>-0.098337</td>\n",
              "      <td>0.111845</td>\n",
              "      <td>-0.155802</td>\n",
              "      <td>-0.063531</td>\n",
              "      <td>0.112343</td>\n",
              "      <td>0.253312</td>\n",
              "      <td>-0.045986</td>\n",
              "      <td>-0.020053</td>\n",
              "      <td>-0.053223</td>\n",
              "      <td>-0.005225</td>\n",
              "      <td>0.133333</td>\n",
              "      <td>0.022222</td>\n",
              "      <td>0.0</td>\n",
              "      <td>1</td>\n",
              "      <td>1</td>\n",
              "      <td>3</td>\n",
              "      <td>0</td>\n",
              "      <td>0</td>\n",
              "      <td>0</td>\n",
              "      <td>0</td>\n",
              "    </tr>\n",
              "  </tbody>\n",
              "</table>\n",
              "<p>2 rows × 310 columns</p>\n",
              "</div>\n",
              "      <button class=\"colab-df-convert\" onclick=\"convertToInteractive('df-351b77ec-9553-485c-956d-acc7eab654c8')\"\n",
              "              title=\"Convert this dataframe to an interactive table.\"\n",
              "              style=\"display:none;\">\n",
              "        \n",
              "  <svg xmlns=\"http://www.w3.org/2000/svg\" height=\"24px\"viewBox=\"0 0 24 24\"\n",
              "       width=\"24px\">\n",
              "    <path d=\"M0 0h24v24H0V0z\" fill=\"none\"/>\n",
              "    <path d=\"M18.56 5.44l.94 2.06.94-2.06 2.06-.94-2.06-.94-.94-2.06-.94 2.06-2.06.94zm-11 1L8.5 8.5l.94-2.06 2.06-.94-2.06-.94L8.5 2.5l-.94 2.06-2.06.94zm10 10l.94 2.06.94-2.06 2.06-.94-2.06-.94-.94-2.06-.94 2.06-2.06.94z\"/><path d=\"M17.41 7.96l-1.37-1.37c-.4-.4-.92-.59-1.43-.59-.52 0-1.04.2-1.43.59L10.3 9.45l-7.72 7.72c-.78.78-.78 2.05 0 2.83L4 21.41c.39.39.9.59 1.41.59.51 0 1.02-.2 1.41-.59l7.78-7.78 2.81-2.81c.8-.78.8-2.07 0-2.86zM5.41 20L4 18.59l7.72-7.72 1.47 1.35L5.41 20z\"/>\n",
              "  </svg>\n",
              "      </button>\n",
              "      \n",
              "  <style>\n",
              "    .colab-df-container {\n",
              "      display:flex;\n",
              "      flex-wrap:wrap;\n",
              "      gap: 12px;\n",
              "    }\n",
              "\n",
              "    .colab-df-convert {\n",
              "      background-color: #E8F0FE;\n",
              "      border: none;\n",
              "      border-radius: 50%;\n",
              "      cursor: pointer;\n",
              "      display: none;\n",
              "      fill: #1967D2;\n",
              "      height: 32px;\n",
              "      padding: 0 0 0 0;\n",
              "      width: 32px;\n",
              "    }\n",
              "\n",
              "    .colab-df-convert:hover {\n",
              "      background-color: #E2EBFA;\n",
              "      box-shadow: 0px 1px 2px rgba(60, 64, 67, 0.3), 0px 1px 3px 1px rgba(60, 64, 67, 0.15);\n",
              "      fill: #174EA6;\n",
              "    }\n",
              "\n",
              "    [theme=dark] .colab-df-convert {\n",
              "      background-color: #3B4455;\n",
              "      fill: #D2E3FC;\n",
              "    }\n",
              "\n",
              "    [theme=dark] .colab-df-convert:hover {\n",
              "      background-color: #434B5C;\n",
              "      box-shadow: 0px 1px 3px 1px rgba(0, 0, 0, 0.15);\n",
              "      filter: drop-shadow(0px 1px 2px rgba(0, 0, 0, 0.3));\n",
              "      fill: #FFFFFF;\n",
              "    }\n",
              "  </style>\n",
              "\n",
              "      <script>\n",
              "        const buttonEl =\n",
              "          document.querySelector('#df-351b77ec-9553-485c-956d-acc7eab654c8 button.colab-df-convert');\n",
              "        buttonEl.style.display =\n",
              "          google.colab.kernel.accessAllowed ? 'block' : 'none';\n",
              "\n",
              "        async function convertToInteractive(key) {\n",
              "          const element = document.querySelector('#df-351b77ec-9553-485c-956d-acc7eab654c8');\n",
              "          const dataTable =\n",
              "            await google.colab.kernel.invokeFunction('convertToInteractive',\n",
              "                                                     [key], {});\n",
              "          if (!dataTable) return;\n",
              "\n",
              "          const docLinkHtml = 'Like what you see? Visit the ' +\n",
              "            '<a target=\"_blank\" href=https://colab.research.google.com/notebooks/data_table.ipynb>data table notebook</a>'\n",
              "            + ' to learn more about interactive tables.';\n",
              "          element.innerHTML = '';\n",
              "          dataTable['output_type'] = 'display_data';\n",
              "          await google.colab.output.renderOutput(dataTable, element);\n",
              "          const docLink = document.createElement('div');\n",
              "          docLink.innerHTML = docLinkHtml;\n",
              "          element.appendChild(docLink);\n",
              "        }\n",
              "      </script>\n",
              "    </div>\n",
              "  </div>\n",
              "  "
            ],
            "text/plain": [
              "          0         1         2         3  ...  gpe  norp  org  person\n",
              "0 -0.001328  0.091650 -0.009184 -0.064808  ...    0     0    0       0\n",
              "1 -0.139165  0.073613 -0.067848 -0.003678  ...    0     0    0       0\n",
              "\n",
              "[2 rows x 310 columns]"
            ]
          },
          "metadata": {},
          "execution_count": 22
        }
      ]
    },
    {
      "cell_type": "code",
      "execution_count": 23,
      "id": "20ee2acd",
      "metadata": {
        "id": "20ee2acd"
      },
      "outputs": [],
      "source": [
        "#del df3\n",
        "#del df_wiki\n",
        "del df_vctr"
      ]
    },
    {
      "cell_type": "code",
      "execution_count": 24,
      "id": "e0b6b83c",
      "metadata": {
        "id": "e0b6b83c",
        "colab": {
          "base_uri": "https://localhost:8080/"
        },
        "outputId": "18270dcf-e39d-4b3d-ca9b-8f5cc1ccee0f"
      },
      "outputs": [
        {
          "output_type": "stream",
          "name": "stdout",
          "text": [
            "(435607, 310)\n",
            "(435607,)\n",
            "(145203, 310)\n",
            "(145203,)\n"
          ]
        }
      ],
      "source": [
        "X_trn, X_tst, y_trn, y_tst,indices_train,indices_test = train_test_split(data2, df_smpld['target'], df_smpld.index , test_size=0.25, stratify=df_smpld['target'],random_state=32)\n",
        "print(X_trn.shape)\n",
        "print(y_trn.shape)\n",
        "print(X_tst.shape)\n",
        "print(y_tst.shape)"
      ]
    },
    {
      "cell_type": "code",
      "execution_count": null,
      "id": "cf500838",
      "metadata": {
        "id": "cf500838"
      },
      "outputs": [],
      "source": [
        "del data2"
      ]
    },
    {
      "cell_type": "code",
      "execution_count": 25,
      "id": "b805bb93",
      "metadata": {
        "id": "b805bb93",
        "outputId": "7e73d7d3-eace-4c02-f08f-25262ff20f1e",
        "colab": {
          "base_uri": "https://localhost:8080/"
        }
      },
      "outputs": [
        {
          "output_type": "stream",
          "name": "stdout",
          "text": [
            "(435607, 7)\n",
            "(145203, 7)\n"
          ]
        }
      ],
      "source": [
        "# Standardize features\n",
        "\n",
        "features_trn = X_trn.iloc[:,303:]\n",
        "features_tst = X_tst.iloc[:,303:]\n",
        "#print(features_trn.columns)\n",
        "#print(features_tst.columns)\n",
        "\n",
        "scaler = StandardScaler()\n",
        "features_train = scaler.fit_transform(features_trn.values)\n",
        "features_test = scaler.transform(features_tst.values)\n",
        "\n",
        "print(features_train.shape)\n",
        "print(features_test.shape)\n"
      ]
    },
    {
      "cell_type": "code",
      "execution_count": null,
      "id": "be169a53",
      "metadata": {
        "id": "be169a53",
        "colab": {
          "base_uri": "https://localhost:8080/"
        },
        "outputId": "e729d4d2-29af-47a2-c413-451e2e549e5d"
      },
      "outputs": [
        {
          "output_type": "stream",
          "name": "stdout",
          "text": [
            "[1. 1. 1. 1. 1. 1. 1.]\n",
            "[-1.73310267e-17 -2.50708594e-17  2.64899646e-17  8.37435212e-17\n",
            " -1.97043579e-17  4.92690506e-17 -2.83331703e-17]\n"
          ]
        }
      ],
      "source": [
        "print(np.std(features_train,axis=0))\n",
        "print(np.mean(features_train,axis=0))"
      ]
    },
    {
      "cell_type": "code",
      "execution_count": 26,
      "id": "039b5aa8",
      "metadata": {
        "id": "039b5aa8",
        "outputId": "21d023bf-ec29-4440-af2a-f0755f87c78d",
        "colab": {
          "base_uri": "https://localhost:8080/"
        }
      },
      "outputs": [
        {
          "output_type": "stream",
          "name": "stdout",
          "text": [
            "(435607, 310)\n",
            "(145203, 310)\n"
          ]
        }
      ],
      "source": [
        "X_train= np.hstack((X_trn.iloc[:,0:303],features_train))\n",
        "print(X_train.shape)\n",
        "X_test= np.hstack((X_tst.iloc[:,0:303],features_test))\n",
        "print(X_test.shape)"
      ]
    },
    {
      "cell_type": "code",
      "source": [
        ""
      ],
      "metadata": {
        "id": "QNyKfcuEekoA"
      },
      "id": "QNyKfcuEekoA",
      "execution_count": null,
      "outputs": []
    },
    {
      "cell_type": "code",
      "source": [
        ""
      ],
      "metadata": {
        "id": "FgBwM6VrF9bs"
      },
      "id": "FgBwM6VrF9bs",
      "execution_count": null,
      "outputs": []
    },
    {
      "cell_type": "markdown",
      "source": [
        "#### SGDClassifier"
      ],
      "metadata": {
        "id": "khdUmmEbelYu"
      },
      "id": "khdUmmEbelYu"
    },
    {
      "cell_type": "code",
      "source": [
        "from sklearn.linear_model import SGDClassifier\n",
        "\n",
        "params={'alpha':[0,0.001,0.01,0.1]}\n",
        "\n",
        "sgdclf = SGDClassifier(loss=\"log\",penalty=\"l2\",eta0=0.01,learning_rate=\"adaptive\",\\\n",
        "                       n_jobs=-1,class_weight=\"balanced\")\n",
        "\n",
        "#lg_ls = make_scorer(log_loss,greater_is_better=False)\n",
        "\n",
        "rsclf = RandomizedSearchCV(sgdclf,params,scoring='neg_log_loss',error_score='raise',cv=3,return_train_score=True,verbose=10)\n",
        "\n",
        "rsclf.fit(X_train,y_trn)"
      ],
      "metadata": {
        "id": "y7Os2NNZSUJo",
        "colab": {
          "base_uri": "https://localhost:8080/"
        },
        "outputId": "617bf873-0dba-4a1b-f5db-9e0b3b7df815"
      },
      "id": "y7Os2NNZSUJo",
      "execution_count": null,
      "outputs": [
        {
          "output_type": "stream",
          "name": "stdout",
          "text": [
            "Fitting 3 folds for each of 4 candidates, totalling 12 fits\n",
            "[CV 1/3; 1/4] START alpha=0.....................................................\n",
            "[CV 1/3; 1/4] END alpha=0;, score=(train=-0.327, test=-0.328) total time=  17.3s\n",
            "[CV 2/3; 1/4] START alpha=0.....................................................\n",
            "[CV 2/3; 1/4] END alpha=0;, score=(train=-0.326, test=-0.327) total time=  16.6s\n",
            "[CV 3/3; 1/4] START alpha=0.....................................................\n",
            "[CV 3/3; 1/4] END alpha=0;, score=(train=-0.328, test=-0.329) total time=  17.4s\n",
            "[CV 1/3; 2/4] START alpha=0.001.................................................\n",
            "[CV 1/3; 2/4] END alpha=0.001;, score=(train=-0.368, test=-0.367) total time=  15.3s\n",
            "[CV 2/3; 2/4] START alpha=0.001.................................................\n",
            "[CV 2/3; 2/4] END alpha=0.001;, score=(train=-0.366, test=-0.366) total time=  15.7s\n",
            "[CV 3/3; 2/4] START alpha=0.001.................................................\n",
            "[CV 3/3; 2/4] END alpha=0.001;, score=(train=-0.367, test=-0.369) total time=  15.4s\n",
            "[CV 1/3; 3/4] START alpha=0.01..................................................\n",
            "[CV 1/3; 3/4] END alpha=0.01;, score=(train=-0.458, test=-0.458) total time=  15.8s\n",
            "[CV 2/3; 3/4] START alpha=0.01..................................................\n",
            "[CV 2/3; 3/4] END alpha=0.01;, score=(train=-0.457, test=-0.457) total time=  16.1s\n",
            "[CV 3/3; 3/4] START alpha=0.01..................................................\n",
            "[CV 3/3; 3/4] END alpha=0.01;, score=(train=-0.458, test=-0.459) total time=  16.2s\n",
            "[CV 1/3; 4/4] START alpha=0.1...................................................\n",
            "[CV 1/3; 4/4] END alpha=0.1;, score=(train=-0.548, test=-0.548) total time=  15.0s\n",
            "[CV 2/3; 4/4] START alpha=0.1...................................................\n",
            "[CV 2/3; 4/4] END alpha=0.1;, score=(train=-0.548, test=-0.548) total time=  15.5s\n",
            "[CV 3/3; 4/4] START alpha=0.1...................................................\n",
            "[CV 3/3; 4/4] END alpha=0.1;, score=(train=-0.548, test=-0.549) total time=  15.0s\n"
          ]
        },
        {
          "output_type": "execute_result",
          "data": {
            "text/plain": [
              "RandomizedSearchCV(cv=3, error_score='raise',\n",
              "                   estimator=SGDClassifier(class_weight='balanced', eta0=0.01,\n",
              "                                           learning_rate='adaptive', loss='log',\n",
              "                                           n_jobs=-1),\n",
              "                   param_distributions={'alpha': [0, 0.001, 0.01, 0.1]},\n",
              "                   return_train_score=True, scoring='neg_log_loss', verbose=10)"
            ]
          },
          "metadata": {},
          "execution_count": 110
        }
      ]
    },
    {
      "cell_type": "code",
      "source": [
        "print(\"Best alpha:\",rsclf.best_params_)\n",
        "print(\"vald_log_loss:\",rsclf.best_score_)"
      ],
      "metadata": {
        "colab": {
          "base_uri": "https://localhost:8080/"
        },
        "id": "LhTM0vS8pEch",
        "outputId": "8d637e7b-b50a-4281-e9d0-e837e0111e03"
      },
      "id": "LhTM0vS8pEch",
      "execution_count": null,
      "outputs": [
        {
          "output_type": "stream",
          "name": "stdout",
          "text": [
            "Best alpha: {'alpha': 0}\n",
            "vald_log_loss: -0.32802465129721914\n"
          ]
        }
      ]
    },
    {
      "cell_type": "code",
      "source": [
        "y_pred_sgdclf = rsclf.best_estimator_.predict(X_test)"
      ],
      "metadata": {
        "id": "lHDmwLzMvzEB"
      },
      "id": "lHDmwLzMvzEB",
      "execution_count": null,
      "outputs": []
    },
    {
      "cell_type": "code",
      "source": [
        "\n",
        "plot_confusion_matrix(rsclf, X_test, y_tst)\n",
        "plt.title(\"Test Confusion Matrix\")\n",
        "\n",
        "plot_confusion_matrix(rsclf, X_train,y_trn)\n",
        "plt.title(\"Train Confusion Matrix\")\n"
      ],
      "metadata": {
        "colab": {
          "base_uri": "https://localhost:8080/",
          "height": 590
        },
        "id": "bHdAyI5uYb9_",
        "outputId": "5bf667d2-089c-45f0-b7b1-46f0105bc0d5"
      },
      "id": "bHdAyI5uYb9_",
      "execution_count": null,
      "outputs": [
        {
          "output_type": "execute_result",
          "data": {
            "text/plain": [
              "Text(0.5, 1.0, 'Train Confusion Matrix')"
            ]
          },
          "metadata": {},
          "execution_count": 113
        },
        {
          "output_type": "display_data",
          "data": {
            "image/png": "[encoded data removed]",
            "text/plain": [
              "<Figure size 432x288 with 2 Axes>"
            ]
          },
          "metadata": {
            "needs_background": "light"
          }
        },
        {
          "output_type": "display_data",
          "data": {
            "image/png": "[encoded data removed]",
            "text/plain": [
              "<Figure size 432x288 with 2 Axes>"
            ]
          },
          "metadata": {
            "needs_background": "light"
          }
        }
      ]
    },
    {
      "cell_type": "code",
      "source": [
        "print(classification_report(y_tst,y_pred_sgdclf,labels=[0,1]))"
      ],
      "metadata": {
        "colab": {
          "base_uri": "https://localhost:8080/"
        },
        "id": "q76P1qHdpElS",
        "outputId": "903aaf7c-75a3-4c47-fe04-1f630dcfb735"
      },
      "id": "q76P1qHdpElS",
      "execution_count": null,
      "outputs": [
        {
          "output_type": "stream",
          "name": "stdout",
          "text": [
            "              precision    recall  f1-score   support\n",
            "\n",
            "           0       0.98      0.87      0.92    125000\n",
            "           1       0.52      0.88      0.66     20203\n",
            "\n",
            "    accuracy                           0.87    145203\n",
            "   macro avg       0.75      0.88      0.79    145203\n",
            "weighted avg       0.91      0.87      0.88    145203\n",
            "\n"
          ]
        }
      ]
    },
    {
      "cell_type": "code",
      "source": [
        "from sklearn.metrics import precision_recall_curve\n",
        "\n",
        "y_sgd_prob = rsclf.best_estimator_.predict_proba(X_test)[:,1]\n",
        "\n",
        "prcsn, rcll, thresholds = precision_recall_curve(y_tst, y_sgd_prob)\n",
        "\n",
        "f1scr = 2 * prcsn *  rcll / (prcsn + rcll)\n",
        "\n",
        "#print(f1scr)\n",
        "\n",
        "maxidx = np.argmax(f1scr)\n",
        "sgd_thrshld = thresholds[maxidx]\n",
        "\n",
        "maxf1 = max(f1scr)\n",
        "\n",
        "#print(\"sgd_thrshld:\",sgd_thrshld)\n",
        "#print(\"f1scr:\",maxf1)\n",
        "\n",
        "y_sgd_lbls = (y_sgd_prob>=sgd_thrshld).astype('int') # classification with optimal threshold\n",
        "\n",
        "print(\"\\n\")\n",
        "\n",
        "plt.figure(figsize=(7,5))\n",
        "plt.plot(rcll,prcsn)\n",
        "plt.annotate(round(maxf1,3),(rcll[maxidx],prcsn[maxidx]))\n",
        "plt.xlabel(\"recall\")\n",
        "plt.ylabel(\"precision\")\n",
        "plt.title(\"PR Curve\")"
      ],
      "metadata": {
        "colab": {
          "base_uri": "https://localhost:8080/",
          "height": 402
        },
        "id": "SUV83iOFSVZK",
        "outputId": "14acc38a-4e6b-4398-9aae-ca1ec8e77022"
      },
      "id": "SUV83iOFSVZK",
      "execution_count": null,
      "outputs": [
        {
          "output_type": "stream",
          "name": "stdout",
          "text": [
            "\n",
            "\n"
          ]
        },
        {
          "output_type": "execute_result",
          "data": {
            "text/plain": [
              "Text(0.5, 1.0, 'PR Curve')"
            ]
          },
          "metadata": {},
          "execution_count": 115
        },
        {
          "output_type": "display_data",
          "data": {
            "image/png": "[encoded data removed]",
            "text/plain": [
              "<Figure size 504x360 with 1 Axes>"
            ]
          },
          "metadata": {
            "needs_background": "light"
          }
        }
      ]
    },
    {
      "cell_type": "code",
      "source": [
        "print(classification_report(y_tst,y_sgd_lbls,labels=[0,1]))"
      ],
      "metadata": {
        "colab": {
          "base_uri": "https://localhost:8080/"
        },
        "id": "qLBp0SOGXxSV",
        "outputId": "e8839fda-da0b-4fd7-f1d2-cb4a8e83c667"
      },
      "id": "qLBp0SOGXxSV",
      "execution_count": null,
      "outputs": [
        {
          "output_type": "stream",
          "name": "stdout",
          "text": [
            "              precision    recall  f1-score   support\n",
            "\n",
            "           0       0.96      0.94      0.95    125000\n",
            "           1       0.66      0.74      0.70     20203\n",
            "\n",
            "    accuracy                           0.91    145203\n",
            "   macro avg       0.81      0.84      0.82    145203\n",
            "weighted avg       0.92      0.91      0.91    145203\n",
            "\n"
          ]
        }
      ]
    },
    {
      "cell_type": "code",
      "source": [
        ""
      ],
      "metadata": {
        "id": "iIoTVRhwXxou"
      },
      "id": "iIoTVRhwXxou",
      "execution_count": null,
      "outputs": []
    },
    {
      "cell_type": "code",
      "execution_count": null,
      "id": "8176488f",
      "metadata": {
        "id": "8176488f",
        "colab": {
          "base_uri": "https://localhost:8080/",
          "height": 475
        },
        "outputId": "490c41d8-3d69-44c9-b5b8-dbd988c8b6b0"
      },
      "outputs": [
        {
          "output_type": "execute_result",
          "data": {
            "text/plain": [
              "Text(0, 0.5, 'Features')"
            ]
          },
          "metadata": {},
          "execution_count": 122
        },
        {
          "output_type": "display_data",
          "data": {
            "image/png": "[encoded data removed]",
            "text/plain": [
              "<Figure size 504x504 with 1 Axes>"
            ]
          },
          "metadata": {
            "needs_background": "light"
          }
        }
      ],
      "source": [
        "# Feature Importances\n",
        "\n",
        "wghts = rsclf.best_estimator_.coef_[0]\n",
        "#print(wghts)\n",
        "#print(\"-------------------------------------\")\n",
        "wghts_idx = np.argsort(wghts)\n",
        "#print(\"Top 20 Columns for class 1:\",wghts_idx[::-1][0:20])\n",
        "#print(\"Top 20 Columns for class 0:\",wghts_idx[0:20])\n",
        "#print(\"------------------------------\")\n",
        "lst0 = [np.round(wghts[i],4) for i in wghts_idx[0:10]]\n",
        "#print(\"Top weights for Class 0:\",lst0)\n",
        "lst1 = [np.round(wghts[i],4) for i in wghts_idx[::-1][0:10]]\n",
        "#print(\"Top weights for Class 1:\",lst1)\n",
        "\n",
        "whghtindx_lst = np.concatenate((wghts_idx[0:10],wghts_idx[::-1][0:10]))\n",
        "#print(whghtindx_lst)\n",
        "\n",
        "wghts_lst = lst0+lst1\n",
        "#print(wghts_lst)\n",
        "\n",
        "plt.figure(figsize=(7,7))\n",
        "\n",
        "plt.barh(whghtindx_lst,wghts_lst)\n",
        "plt.title(\"Top 20 Important Features\")\n",
        "plt.xlabel(\"Feature weights\")\n",
        "plt.ylabel(\"Features\")"
      ]
    },
    {
      "cell_type": "code",
      "source": [
        ""
      ],
      "metadata": {
        "id": "jVkKIY6RXx7X"
      },
      "id": "jVkKIY6RXx7X",
      "execution_count": null,
      "outputs": []
    },
    {
      "cell_type": "code",
      "source": [
        ""
      ],
      "metadata": {
        "id": "00MiJqlb6mqG"
      },
      "id": "00MiJqlb6mqG",
      "execution_count": null,
      "outputs": []
    },
    {
      "cell_type": "markdown",
      "source": [
        "#### LightGBM"
      ],
      "metadata": {
        "id": "yvpJyyIQZYW2"
      },
      "id": "yvpJyyIQZYW2"
    },
    {
      "cell_type": "code",
      "source": [
        "#from xgboost import XGBClassifier\n",
        "import lightgbm as lgb\n",
        "\n",
        "params2 ={'max_depth':[3,4,5],'n_estimators':[30,50],'scale_pos_weight':[2,3,4]}  ##'max_delta_step':[1,2]\n",
        "\n",
        "lgbmclf = lgb.LGBMClassifier(objective='binary',learning_rate=0.1,metric=\"binary_logloss\",is_provide_training_metric=True,\\\n",
        "                             nthread=-1,num_iterations=100) #bagging_fraction=0.8\n",
        "\n",
        "rsclf2 = GridSearchCV(lgbmclf,params2,scoring='neg_log_loss',error_score='raise',cv=3,return_train_score=True,verbose=True,n_jobs=-1)\n"
      ],
      "metadata": {
        "id": "lI6lorrBZb95"
      },
      "id": "lI6lorrBZb95",
      "execution_count": 27,
      "outputs": []
    },
    {
      "cell_type": "code",
      "source": [
        "t0 = time()\n",
        "rsclf2.fit(X_train,y_trn)\n",
        "print(\"Lgbm model trained in %0.2fs\" %(time()-t0))"
      ],
      "metadata": {
        "id": "0nGzgdTQZgV4",
        "colab": {
          "base_uri": "https://localhost:8080/"
        },
        "outputId": "366cc3ed-1d7f-4a82-a767-dfb5f6f5071a"
      },
      "id": "0nGzgdTQZgV4",
      "execution_count": 28,
      "outputs": [
        {
          "output_type": "stream",
          "name": "stdout",
          "text": [
            "Fitting 3 folds for each of 18 candidates, totalling 54 fits\n",
            "Lgbm model trained in 1467.97s\n"
          ]
        }
      ]
    },
    {
      "cell_type": "code",
      "source": [
        "for i,p in enumerate(rsclf2.cv_results_['params']):\n",
        "    print(p , \", Train loss:\",rsclf2.cv_results_['mean_train_score'][i] , \", Test loss:\" ,rsclf2.cv_results_['mean_test_score'][i] ) "
      ],
      "metadata": {
        "colab": {
          "base_uri": "https://localhost:8080/"
        },
        "id": "snrbbt--ytOx",
        "outputId": "4cec03de-6860-4b12-9121-67757ed24b8a"
      },
      "id": "snrbbt--ytOx",
      "execution_count": 29,
      "outputs": [
        {
          "output_type": "stream",
          "name": "stdout",
          "text": [
            "{'max_depth': 3, 'n_estimators': 30, 'scale_pos_weight': 2} , Train loss: -0.23225981312574914 , Test loss: -0.23617267332387992\n",
            "{'max_depth': 3, 'n_estimators': 30, 'scale_pos_weight': 3} , Train loss: -0.25826136523692145 , Test loss: -0.2621374739198987\n",
            "{'max_depth': 3, 'n_estimators': 30, 'scale_pos_weight': 4} , Train loss: -0.2856570453493695 , Test loss: -0.2894398299019794\n",
            "{'max_depth': 3, 'n_estimators': 50, 'scale_pos_weight': 2} , Train loss: -0.23225981312574914 , Test loss: -0.23617267332387992\n",
            "{'max_depth': 3, 'n_estimators': 50, 'scale_pos_weight': 3} , Train loss: -0.25826136523692145 , Test loss: -0.2621374739198987\n",
            "{'max_depth': 3, 'n_estimators': 50, 'scale_pos_weight': 4} , Train loss: -0.2856570453493695 , Test loss: -0.2894398299019794\n",
            "{'max_depth': 4, 'n_estimators': 30, 'scale_pos_weight': 2} , Train loss: -0.21939592699779376 , Test loss: -0.22676429403158294\n",
            "{'max_depth': 4, 'n_estimators': 30, 'scale_pos_weight': 3} , Train loss: -0.24367584048707638 , Test loss: -0.25104786464313167\n",
            "{'max_depth': 4, 'n_estimators': 30, 'scale_pos_weight': 4} , Train loss: -0.2688271392358354 , Test loss: -0.2762226145575441\n",
            "{'max_depth': 4, 'n_estimators': 50, 'scale_pos_weight': 2} , Train loss: -0.21939592699779376 , Test loss: -0.22676429403158294\n",
            "{'max_depth': 4, 'n_estimators': 50, 'scale_pos_weight': 3} , Train loss: -0.24367584048707638 , Test loss: -0.25104786464313167\n",
            "{'max_depth': 4, 'n_estimators': 50, 'scale_pos_weight': 4} , Train loss: -0.2688271392358354 , Test loss: -0.2762226145575441\n",
            "{'max_depth': 5, 'n_estimators': 30, 'scale_pos_weight': 2} , Train loss: -0.20600582041933554 , Test loss: -0.2194321726718346\n",
            "{'max_depth': 5, 'n_estimators': 30, 'scale_pos_weight': 3} , Train loss: -0.22880065157534657 , Test loss: -0.2422268011081451\n",
            "{'max_depth': 5, 'n_estimators': 30, 'scale_pos_weight': 4} , Train loss: -0.252102697347888 , Test loss: -0.26544373403287314\n",
            "{'max_depth': 5, 'n_estimators': 50, 'scale_pos_weight': 2} , Train loss: -0.20600582041933554 , Test loss: -0.2194321726718346\n",
            "{'max_depth': 5, 'n_estimators': 50, 'scale_pos_weight': 3} , Train loss: -0.22880065157534657 , Test loss: -0.2422268011081451\n",
            "{'max_depth': 5, 'n_estimators': 50, 'scale_pos_weight': 4} , Train loss: -0.252102697347888 , Test loss: -0.26544373403287314\n"
          ]
        }
      ]
    },
    {
      "cell_type": "code",
      "source": [
        "rsclf2.best_estimator_"
      ],
      "metadata": {
        "colab": {
          "base_uri": "https://localhost:8080/"
        },
        "id": "DTZe-_vGwJ9p",
        "outputId": "543a9615-e622-46c1-9148-277fad6e3e8d"
      },
      "id": "DTZe-_vGwJ9p",
      "execution_count": 30,
      "outputs": [
        {
          "output_type": "execute_result",
          "data": {
            "text/plain": [
              "LGBMClassifier(is_provide_training_metric=True, max_depth=5,\n",
              "               metric='binary_logloss', n_estimators=30, nthread=-1,\n",
              "               num_iterations=100, objective='binary', scale_pos_weight=2)"
            ]
          },
          "metadata": {},
          "execution_count": 30
        }
      ]
    },
    {
      "cell_type": "code",
      "source": [
        "y_pred_lgbmclf = rsclf2.best_estimator_.predict(X_test)"
      ],
      "metadata": {
        "id": "3zDy_DcJ3maV"
      },
      "id": "3zDy_DcJ3maV",
      "execution_count": 31,
      "outputs": []
    },
    {
      "cell_type": "code",
      "source": [
        "plot_confusion_matrix(rsclf2, X_test, y_tst)\n",
        "plt.title(\"Test Confusion Matrix\")\n",
        "\n",
        "plot_confusion_matrix(rsclf2, X_train,y_trn)\n",
        "plt.title(\"Train Confusion Matrix\")\n"
      ],
      "metadata": {
        "colab": {
          "base_uri": "https://localhost:8080/",
          "height": 590
        },
        "id": "MZs3p3rb3x46",
        "outputId": "731e1cd7-ada3-4a6f-a6a9-e5dda991e007"
      },
      "id": "MZs3p3rb3x46",
      "execution_count": 32,
      "outputs": [
        {
          "output_type": "execute_result",
          "data": {
            "text/plain": [
              "Text(0.5, 1.0, 'Train Confusion Matrix')"
            ]
          },
          "metadata": {},
          "execution_count": 32
        },
        {
          "output_type": "display_data",
          "data": {
            "image/png": "[encoded data removed]",
            "text/plain": [
              "<Figure size 432x288 with 2 Axes>"
            ]
          },
          "metadata": {
            "needs_background": "light"
          }
        },
        {
          "output_type": "display_data",
          "data": {
            "image/png": "[encoded data removed]",
            "text/plain": [
              "<Figure size 432x288 with 2 Axes>"
            ]
          },
          "metadata": {
            "needs_background": "light"
          }
        }
      ]
    },
    {
      "cell_type": "code",
      "source": [
        "print(classification_report(y_tst,y_pred_lgbmclf,labels=[0,1]))"
      ],
      "metadata": {
        "colab": {
          "base_uri": "https://localhost:8080/"
        },
        "id": "RpwcibBv3ujU",
        "outputId": "921d46a2-823a-4690-fe80-abec358216c1"
      },
      "id": "RpwcibBv3ujU",
      "execution_count": 33,
      "outputs": [
        {
          "output_type": "stream",
          "name": "stdout",
          "text": [
            "              precision    recall  f1-score   support\n",
            "\n",
            "           0       0.95      0.94      0.95    125000\n",
            "           1       0.67      0.72      0.69     20203\n",
            "\n",
            "    accuracy                           0.91    145203\n",
            "   macro avg       0.81      0.83      0.82    145203\n",
            "weighted avg       0.91      0.91      0.91    145203\n",
            "\n"
          ]
        }
      ]
    },
    {
      "cell_type": "code",
      "source": [
        "lgb.plot_importance(rsclf2.best_estimator_,max_num_features=20)\n"
      ],
      "metadata": {
        "colab": {
          "base_uri": "https://localhost:8080/",
          "height": 312
        },
        "id": "EGWSI2fuknCy",
        "outputId": "1349ae01-3f26-42fe-9c05-1d8a171ba597"
      },
      "id": "EGWSI2fuknCy",
      "execution_count": 34,
      "outputs": [
        {
          "output_type": "execute_result",
          "data": {
            "text/plain": [
              "<matplotlib.axes._subplots.AxesSubplot at 0x7f64daef0450>"
            ]
          },
          "metadata": {},
          "execution_count": 34
        },
        {
          "output_type": "display_data",
          "data": {
            "image/png": "[encoded data removed]",
            "text/plain": [
              "<Figure size 432x288 with 1 Axes>"
            ]
          },
          "metadata": {
            "needs_background": "light"
          }
        }
      ]
    },
    {
      "cell_type": "code",
      "source": [
        ""
      ],
      "metadata": {
        "id": "C3ddKBc25Bwh"
      },
      "id": "C3ddKBc25Bwh",
      "execution_count": null,
      "outputs": []
    },
    {
      "cell_type": "markdown",
      "source": [
        "#### Error Analysis"
      ],
      "metadata": {
        "id": "ixYClwPA5CM0"
      },
      "id": "ixYClwPA5CM0"
    },
    {
      "cell_type": "code",
      "source": [
        "# Fetch misclassified questions\n",
        "\n",
        "indx_err = indices_test[np.where(y_tst != y_pred_lgbmclf)]\n",
        "#print(indx_err)\n",
        "#print(len(indx_err))\n",
        "df_smpld_err = df_smpld.loc[indx_err,['prcsd_txt','target','txtcvrg']]\n",
        "print(df_smpld_err['target'].value_counts())"
      ],
      "metadata": {
        "colab": {
          "base_uri": "https://localhost:8080/"
        },
        "id": "_sgYhbVU5GQ1",
        "outputId": "ac7b1e3c-da75-4a25-d00a-42e0f4a84d7c"
      },
      "id": "_sgYhbVU5GQ1",
      "execution_count": 81,
      "outputs": [
        {
          "output_type": "stream",
          "name": "stdout",
          "text": [
            "0    7086\n",
            "1    5691\n",
            "Name: target, dtype: int64\n"
          ]
        }
      ]
    },
    {
      "cell_type": "code",
      "source": [
        "# Fetch correctly classified questions\n",
        "\n",
        "indx_crct = indices_test[np.where(y_tst == y_pred_lgbmclf)]\n",
        "df_smpld_crct = df_smpld.loc[indx_crct,['prcsd_txt','target','txtcvrg']]\n",
        "print(df_smpld_crct['target'].value_counts())"
      ],
      "metadata": {
        "colab": {
          "base_uri": "https://localhost:8080/"
        },
        "id": "1KMDWSs68-WV",
        "outputId": "e478cb5b-bce8-4d37-b752-4498b174f114"
      },
      "id": "1KMDWSs68-WV",
      "execution_count": 82,
      "outputs": [
        {
          "output_type": "stream",
          "name": "stdout",
          "text": [
            "0    117914\n",
            "1     14512\n",
            "Name: target, dtype: int64\n"
          ]
        }
      ]
    },
    {
      "cell_type": "code",
      "source": [
        "# function to get top words (insincere questions)\n",
        "\n",
        "def wrdcnt_ftrs(trgt,df_in):\n",
        "\n",
        "    cntvctr = CountVectorizer(stop_words=\"english\")\n",
        "    qtns_cnt = cntvctr.fit_transform(df_in[df_in['target']==trgt]['prcsd_txt'])\n",
        "    #print(cntvctr0.get_feature_names())\n",
        "    #print(\"qtns_cnt.shape:\",qtns_cnt.shape)\n",
        "\n",
        "    qtns_cnt_sm = np.array(np.sum(qtns_cnt,axis=0))\n",
        "    #print(\"qtns_cnt_sm.shape:\",qtns_cnt_sm.shape)\n",
        "    #print(\"qtns_cnt_sm:\",qtns_cnt_sm)\n",
        "    \n",
        "    qtns_cnt_idx = np.argsort(qtns_cnt_sm[0])[::-1]\n",
        "    #print(\"qtns_cnt_idx:\",qtns_cnt_idx)\n",
        "    \n",
        "    qtns_cnt_top50_ftrs = [cntvctr.get_feature_names()[i] for i in qtns_cnt_idx[0:50]]    \n",
        "    #print(\"qtns_cnt_top50_ftrs:\",qtns_cnt_top50_ftrs)\n",
        "\n",
        "    qtns_cnt_sm_srt = np.sort(qtns_cnt_sm)[0][::-1]\n",
        "    #print(\"qtns_cnt_sm_srt:\",qtns_cnt_mn_srt)\n",
        "    #print(\"qtns_cnt_sm_srt max:\",max(qtns_cnt_sm_srt))\n",
        "    \n",
        "    qtns_cnt_top50 = qtns_cnt_sm_srt[0:50]\n",
        "    #print(\"qtns_cnt_top50:\",qtns_cnt_top50)\n",
        "    \n",
        "    return qtns_cnt_top50,qtns_cnt_top50_ftrs"
      ],
      "metadata": {
        "id": "wLfhhdyl7NBR"
      },
      "id": "wLfhhdyl7NBR",
      "execution_count": 83,
      "outputs": []
    },
    {
      "cell_type": "code",
      "source": [
        "# Top words in misclassified insincere qtns  \n",
        "qtn1_err_top50 , qtn1_err_top50_ftrs = wrdcnt_ftrs(1,df_smpld_err)\n",
        "print(\"Top words in misclassified insincere qtns:\\n\",qtn1_err_top50_ftrs)"
      ],
      "metadata": {
        "colab": {
          "base_uri": "https://localhost:8080/"
        },
        "id": "o4vKYyVb7--J",
        "outputId": "689e18f9-dc72-42e1-afe6-ca043544be26"
      },
      "id": "o4vKYyVb7--J",
      "execution_count": 84,
      "outputs": [
        {
          "output_type": "stream",
          "name": "stdout",
          "text": [
            "Top words in misclassified insincere qtns:\n",
            " ['people', 'does', 'did', 'like', 'trump', 'quora', 'india', 'think', 'sex', 'want', 'just', 'know', 'women', 'good', 'old', 'world', 'make', 'year', 'time', 'questions', 'feel', 'best', 'years', 'really', 'way', 'use', 'black', 'person', 'girls', 'girl', 'question', 'country', 'modi', 'right', 'new', 'money', 'life', 'true', 'white', 'china', 'school', 'indian', 'earth', 'normal', 'come', 'math', 'man', 'woman', 'say', 'men']\n"
          ]
        }
      ]
    },
    {
      "cell_type": "code",
      "source": [
        "# Top words in correctly classified insincere qtns  \n",
        "qtn1_crct_top50 , qtn1_crct_top50_ftrs = wrdcnt_ftrs(1,df_smpld_crct)\n",
        "print(\"Top words in correctly classified insincere qtns:\\n\",qtn1_crct_top50_ftrs)"
      ],
      "metadata": {
        "colab": {
          "base_uri": "https://localhost:8080/"
        },
        "id": "MidMijrr8zqB",
        "outputId": "d71c8dfa-603e-406d-ffa3-b8bfd061db5b"
      },
      "id": "MidMijrr8zqB",
      "execution_count": 85,
      "outputs": [
        {
          "output_type": "stream",
          "name": "stdout",
          "text": [
            "Top words in correctly classified insincere qtns:\n",
            " ['people', 'trump', 'women', 'like', 'does', 'men', 'muslims', 'white', 'think', 'americans', 'did', 'indian', 'black', 'quora', 'india', 'just', 'indians', 'hate', 'girls', 'muslim', 'sex', 'liberals', 'world', 'chinese', 'want', 'american', 'country', 'america', 'jews', 'make', 'gay', 'president', 'countries', 'feel', 'believe', 'say', 'democrats', 'donald', 'christians', 'right', 'true', 'god', 'really', 'obama', 'racist', 'questions', 'man', 'hindus', 'good', 'china']\n"
          ]
        }
      ]
    },
    {
      "cell_type": "code",
      "source": [
        "plt.figure(figsize=(12,8))\n",
        "\n",
        "plt.subplot(1,2,1)\n",
        "sns.barplot(x=qtn1_err_top50,y=qtn1_err_top50_ftrs)\n",
        "plt.xlabel(\"count\")\n",
        "plt.title(\"Top features in misclassified insincere qtns \")\n",
        "\n",
        "plt.subplot(1,2,2)\n",
        "sns.barplot(x=qtn1_crct_top50,y=qtn1_crct_top50_ftrs)\n",
        "plt.xlabel(\"count\")\n",
        "plt.title(\"Top features in correctly classified insincere qtns\")\n",
        "\n",
        "plt.show()"
      ],
      "metadata": {
        "colab": {
          "base_uri": "https://localhost:8080/",
          "height": 513
        },
        "id": "k1yqIqeI9lWY",
        "outputId": "ac406ced-c8f5-4da6-ba5e-b06df1c2bce4"
      },
      "id": "k1yqIqeI9lWY",
      "execution_count": 86,
      "outputs": [
        {
          "output_type": "display_data",
          "data": {
            "image/png": "[encoded data removed]",
            "text/plain": [
              "<Figure size 864x576 with 2 Axes>"
            ]
          },
          "metadata": {
            "needs_background": "light"
          }
        }
      ]
    },
    {
      "cell_type": "code",
      "source": [
        "lst_cmn_wrds = set(qtn1_crct_top50_ftrs).intersection(set(qtn1_err_top50_ftrs))\n",
        "print(\"No of common top features in both correctly and misclassified insincere questions:\",len(lst_cmn_wrds))"
      ],
      "metadata": {
        "colab": {
          "base_uri": "https://localhost:8080/"
        },
        "id": "cvvANN-C_0LG",
        "outputId": "f445a492-8105-4fbf-f22a-1dda85cc270b"
      },
      "id": "cvvANN-C_0LG",
      "execution_count": 92,
      "outputs": [
        {
          "output_type": "stream",
          "name": "stdout",
          "text": [
            "No of common top features in both correctly and misclassified insincere questions: 29\n"
          ]
        }
      ]
    },
    {
      "cell_type": "code",
      "source": [
        "lst_uncmn_wrds = set(qtn1_err_top50_ftrs).difference(set(qtn1_crct_top50_ftrs))\n",
        "print(\"Number of distinct words in misclassified insincere qtns:\",len(lst_uncmn_wrds))\n",
        "print(\"Distinct top words in misclassified insincere qtns:\\n\",lst_uncmn_wrds)"
      ],
      "metadata": {
        "colab": {
          "base_uri": "https://localhost:8080/"
        },
        "id": "PbjB2M8oAxyh",
        "outputId": "592e7902-2e81-4b5e-af61-37f99310dfab"
      },
      "id": "PbjB2M8oAxyh",
      "execution_count": 91,
      "outputs": [
        {
          "output_type": "stream",
          "name": "stdout",
          "text": [
            "Number of distinct words in misclassified insincere qtns: 21\n",
            "Distinct top words in misclassified insincere qtns:\n",
            " {'normal', 'person', 'old', 'earth', 'best', 'money', 'year', 'new', 'math', 'woman', 'years', 'use', 'modi', 'question', 'girl', 'life', 'time', 'come', 'school', 'know', 'way'}\n"
          ]
        }
      ]
    },
    {
      "cell_type": "markdown",
      "source": [
        "Observations:\n",
        "\n",
        "\n",
        "*   There are 50% of top features ocurring commnly in both correctly and misclassified insincere questions\n",
        "*   Looking into the distinct top features in miclassified insincere questions, there is no insincereity in them but the context of the question could be making it insincere\n",
        "* Could try Deep Learning models and see it they can catch up with the contexts and other details\n",
        "\n",
        "\n",
        "\n",
        "\n",
        "\n",
        "\n"
      ],
      "metadata": {
        "id": "9ti-xZYZEZAE"
      },
      "id": "9ti-xZYZEZAE"
    }
  ],
  "metadata": {
    "colab": {
      "name": "Phs3_Features_1.ipynb",
      "provenance": [],
      "machine_shape": "hm"
    },
    "kernelspec": {
      "display_name": "Python 3",
      "language": "python",
      "name": "python3"
    },
    "language_info": {
      "codemirror_mode": {
        "name": "ipython",
        "version": 3
      },
      "file_extension": ".py",
      "mimetype": "text/x-python",
      "name": "python",
      "nbconvert_exporter": "python",
      "pygments_lexer": "ipython3",
      "version": "3.6.5"
    }
  },
  "nbformat": 4,
  "nbformat_minor": 5
}