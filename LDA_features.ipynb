{
 "cells": [
  {
   "cell_type": "code",
   "execution_count": 17,
   "id": "ac538b8c",
   "metadata": {},
   "outputs": [],
   "source": [
    "from time import time\n",
    "\n",
    "import pandas as pd\n",
    "import numpy as np\n",
    "\n",
    "import matplotlib.pyplot as plt\n",
    "\n",
    "from sklearn.feature_extraction.text import TfidfVectorizer, CountVectorizer\n",
    "from sklearn.decomposition import LatentDirichletAllocation"
   ]
  },
  {
   "cell_type": "code",
   "execution_count": 2,
   "id": "09c9397f",
   "metadata": {},
   "outputs": [
    {
     "data": {
      "text/html": [
       "<div>\n",
       "<style scoped>\n",
       "    .dataframe tbody tr th:only-of-type {\n",
       "        vertical-align: middle;\n",
       "    }\n",
       "\n",
       "    .dataframe tbody tr th {\n",
       "        vertical-align: top;\n",
       "    }\n",
       "\n",
       "    .dataframe thead th {\n",
       "        text-align: right;\n",
       "    }\n",
       "</style>\n",
       "<table border=\"1\" class=\"dataframe\">\n",
       "  <thead>\n",
       "    <tr style=\"text-align: right;\">\n",
       "      <th></th>\n",
       "      <th>qid</th>\n",
       "      <th>question_text</th>\n",
       "      <th>target</th>\n",
       "    </tr>\n",
       "  </thead>\n",
       "  <tbody>\n",
       "    <tr>\n",
       "      <th>0</th>\n",
       "      <td>00002165364db923c7e6</td>\n",
       "      <td>How did Quebec nationalists see their province...</td>\n",
       "      <td>0</td>\n",
       "    </tr>\n",
       "    <tr>\n",
       "      <th>1</th>\n",
       "      <td>000032939017120e6e44</td>\n",
       "      <td>Do you have an adopted dog, how would you enco...</td>\n",
       "      <td>0</td>\n",
       "    </tr>\n",
       "  </tbody>\n",
       "</table>\n",
       "</div>"
      ],
      "text/plain": [
       "                    qid                                      question_text  \\\n",
       "0  00002165364db923c7e6  How did Quebec nationalists see their province...   \n",
       "1  000032939017120e6e44  Do you have an adopted dog, how would you enco...   \n",
       "\n",
       "   target  \n",
       "0       0  \n",
       "1       0  "
      ]
     },
     "execution_count": 2,
     "metadata": {},
     "output_type": "execute_result"
    }
   ],
   "source": [
    "df = pd.read_csv('train.csv')\n",
    "df.head(2)"
   ]
  },
  {
   "cell_type": "code",
   "execution_count": 3,
   "id": "d0eb8b63",
   "metadata": {},
   "outputs": [
    {
     "name": "stdout",
     "output_type": "stream",
     "text": [
      "                    qid                                      question_text  \\\n",
      "0  00002165364db923c7e6  How did Quebec nationalists see their province...   \n",
      "1  000032939017120e6e44  Do you have an adopted dog, how would you enco...   \n",
      "\n",
      "   target  \n",
      "0       0  \n",
      "1       0  \n",
      "-----------------\n",
      "                     qid                                      question_text  \\\n",
      "22  0000e91571b60c2fb487  Has the United States become the largest dicta...   \n",
      "30  00013ceca3f624b09f42  Which babies are more sweeter to their parents...   \n",
      "\n",
      "    target  \n",
      "22       1  \n",
      "30       1  \n"
     ]
    }
   ],
   "source": [
    "df0 = df[df['target']==0]\n",
    "df1 = df[df['target']==1]\n",
    "\n",
    "print(df0.head(2))\n",
    "print(\"-----------------\")\n",
    "print(df1.head(2))"
   ]
  },
  {
   "cell_type": "code",
   "execution_count": 137,
   "id": "7c31f144",
   "metadata": {},
   "outputs": [],
   "source": [
    "tfvctr = TfidfVectorizer(max_features=1000,strip_accents=\"ascii\",stop_words='english')"
   ]
  },
  {
   "cell_type": "code",
   "execution_count": 138,
   "id": "5f171486",
   "metadata": {},
   "outputs": [],
   "source": [
    "tfidf0 = tfvctr.fit_transform(df0['question_text'])"
   ]
  },
  {
   "cell_type": "code",
   "execution_count": 251,
   "id": "ea2e5970",
   "metadata": {},
   "outputs": [],
   "source": [
    "lda0 = LatentDirichletAllocation(n_components=5,max_iter=2,learning_method=\"online\",\\\n",
    "                                random_state=4,n_jobs=-1)"
   ]
  },
  {
   "cell_type": "code",
   "execution_count": 140,
   "id": "9872ec25",
   "metadata": {},
   "outputs": [
    {
     "name": "stdout",
     "output_type": "stream",
     "text": [
      "done in 427.118s.\n"
     ]
    }
   ],
   "source": [
    "t0 = time()\n",
    "lda_0 = lda0.fit(tfidf0)\n",
    "print(\"done in %0.3fs.\" % (time() - t0))"
   ]
  },
  {
   "cell_type": "code",
   "execution_count": 141,
   "id": "0867d119",
   "metadata": {},
   "outputs": [
    {
     "data": {
      "text/plain": [
       "(5, 1000)"
      ]
     },
     "execution_count": 141,
     "metadata": {},
     "output_type": "execute_result"
    }
   ],
   "source": [
    "lda_0.components_.shape"
   ]
  },
  {
   "cell_type": "code",
   "execution_count": 165,
   "id": "45536ef9",
   "metadata": {},
   "outputs": [
    {
     "name": "stdout",
     "output_type": "stream",
     "text": [
      "{'Topic1': ['india', 'used', 'job', 'need', 'school', 'buy', 'happen', 'year', 'company', 'old', 'say', 'does', 'business', 'high', 'online', 'getting', 'student', 'number', 'science', 'look'], 'Topic2': ['does', 'make', 'time', 'want', 'quora', 'just', 'money', 'really', 'change', 'using', 'help', 'study', 'water', 'books', '2018', 'girl', 'sex', 'war', '10', 'relationship'], 'Topic3': ['like', 'does', 'use', 'work', 'mean', 'long', 'things', 'indian', 'day', 'engineering', 'university', 'new', 'bad', 'best', '2017', 'good', 'real', 'come', 'social', 'questions'], 'Topic4': ['best', 'did', 'good', 'people', 'way', 'better', 'world', 'possible', 'different', 'learn', 'book', 'college', 'country', 'know', 'thing', 'important', 'live', 'ways', 'experience', 'having'], 'Topic5': ['think', 'life', 'difference', 'person', 'feel', 'start', 'people', 'love', 'did', 'stop', 'don', 'trump', 'like', 'english', 'free', 'examples', 'women', 'years', 'going', 'write']}\n"
     ]
    }
   ],
   "source": [
    "dct0_tp = dict()\n",
    "\n",
    "for i, comp in enumerate(lda0.components_):\n",
    "        vocab_comp = zip(tfvctr.get_feature_names(), comp)\n",
    "        #print(\"Topic \"+str(i)+\": \")\n",
    "        tpc = \"Topic\"+str(i+1)\n",
    "        sorted_words = sorted(vocab_comp, key= lambda x:x[1], reverse=True)[:20]\n",
    "        #print(sorted_words,\"\\n\")\n",
    "        lst=[]\n",
    "        for t in sorted_words:\n",
    "            #print(t[0],end=\" \")\n",
    "            lst.append(t[0])\n",
    "        #print(\"\\n\")\n",
    "        \n",
    "        dct0_tp[tpc] = lst\n",
    "\n",
    "print(dct0_tp)        "
   ]
  },
  {
   "cell_type": "code",
   "execution_count": 186,
   "id": "dbd126f3",
   "metadata": {},
   "outputs": [],
   "source": [
    "def plot_top_words(model, feature_names, n_top_words, title):\n",
    "    fig, axes = plt.subplots(1, 5, figsize=(12,7), sharex=True)\n",
    "    axes = axes.flatten()\n",
    "    for topic_idx, topic in enumerate(model.components_):\n",
    "        top_features_ind = topic.argsort()[: -n_top_words - 1 : -1]\n",
    "        top_features = [feature_names[i] for i in top_features_ind]\n",
    "        weights = topic[top_features_ind]\n",
    "\n",
    "        ax = axes[topic_idx]\n",
    "        ax.barh(top_features, weights, height=0.7)\n",
    "        ax.set_title(f\"Topic {topic_idx+1}\", fontdict={\"fontsize\": 12})\n",
    "        ax.invert_yaxis()\n",
    "        ax.tick_params(axis=\"both\", which=\"major\", labelsize=12)\n",
    "        for i in \"top right left\".split():\n",
    "            ax.spines[i].set_visible(False)\n",
    "        fig.suptitle(title, fontsize=12)\n",
    "\n",
    "    plt.subplots_adjust(top=0.90, bottom=0.05, wspace=0.90, hspace=0.3)\n",
    "    plt.show()"
   ]
  },
  {
   "cell_type": "code",
   "execution_count": 187,
   "id": "3a142ed7",
   "metadata": {},
   "outputs": [
    {
     "data": {
      "image/png": "[encoded data removed]",
      "text/plain": [
       "<Figure size 864x504 with 5 Axes>"
      ]
     },
     "metadata": {},
     "output_type": "display_data"
    }
   ],
   "source": [
    "plot_top_words(lda0,tfvctr.get_feature_names(),20,\"LDA0 Topics\")"
   ]
  },
  {
   "cell_type": "code",
   "execution_count": null,
   "id": "4efa6b63",
   "metadata": {},
   "outputs": [],
   "source": []
  },
  {
   "cell_type": "code",
   "execution_count": null,
   "id": "44ce76d4",
   "metadata": {},
   "outputs": [],
   "source": []
  },
  {
   "cell_type": "code",
   "execution_count": 144,
   "id": "c059dffd",
   "metadata": {},
   "outputs": [],
   "source": [
    "lda1 = LatentDirichletAllocation(n_components=5,max_iter=2,learning_method=\"online\",\\\n",
    "                                random_state=0,n_jobs=-1)"
   ]
  },
  {
   "cell_type": "code",
   "execution_count": 145,
   "id": "d5b20509",
   "metadata": {},
   "outputs": [],
   "source": [
    "tfvctr1 = TfidfVectorizer(max_features=1000,strip_accents=\"ascii\",stop_words='english')"
   ]
  },
  {
   "cell_type": "code",
   "execution_count": 146,
   "id": "43c64db2",
   "metadata": {},
   "outputs": [],
   "source": [
    "tfidf1 = tfvctr1.fit_transform(df1['question_text'])"
   ]
  },
  {
   "cell_type": "code",
   "execution_count": 154,
   "id": "1498afb6",
   "metadata": {},
   "outputs": [
    {
     "name": "stdout",
     "output_type": "stream",
     "text": [
      "done in 27.405s.\n"
     ]
    }
   ],
   "source": [
    "t0 = time()\n",
    "lda1.fit(tfidf1)\n",
    "print(\"done in %0.3fs.\" % (time() - t0))"
   ]
  },
  {
   "cell_type": "code",
   "execution_count": null,
   "id": "85338d4e",
   "metadata": {},
   "outputs": [],
   "source": []
  },
  {
   "cell_type": "code",
   "execution_count": 169,
   "id": "a39de59e",
   "metadata": {},
   "outputs": [
    {
     "name": "stdout",
     "output_type": "stream",
     "text": [
      "{'Topic1': ['sex', 'good', 'racist', 'democrats', 'obama', 'china', 'people', 'make', 'america', 'trump', 'look', 'usa', 'atheists', 'want', 'does', 'eat', 'states', 'country', 'did', 'conservatives'], 'Topic2': ['muslims', 'hate', 'india', 'indians', 'muslim', 'people', 'jews', 'believe', 'don', 'god', 'christians', 'hindus', 'children', 'girl', 'quora', 'israel', 'indian', 'right', 'non', 'religion'], 'Topic3': ['trump', 'donald', 'quora', 'does', 'did', 'old', 'modi', 'better', 'bad', 'people', 'year', 'guys', 'rape', 'hillary', 'women', 'republicans', 'think', 'media', 'white', 'asian'], 'Topic4': ['people', 'girls', 'black', 'white', 'gay', 'americans', 'questions', 'woman', 'like', 'kill', 'man', 'indian', 'men', 'use', 'come', 'american', 'islam', 'new', 'dont', 'love'], 'Topic5': ['women', 'men', 'president', 'feel', 'like', 'chinese', 'stupid', 'trump', 'liberals', 'pakistan', 'really', 'people', 'left', 'realize', 'indian', 'best', 'big', 'called', 'isn', 'does']}\n"
     ]
    }
   ],
   "source": [
    "dct1_tp = dict()\n",
    "\n",
    "for i, comp in enumerate(lda1.components_):\n",
    "        vocab_comp = zip(tfvctr1.get_feature_names(), comp)\n",
    "        #print(\"Topic \"+str(i)+\": \")\n",
    "        tpc = \"Topic\"+str(i+1)\n",
    "        sorted_words = sorted(vocab_comp, key= lambda x:x[1], reverse=True)[:20]\n",
    "        #print(sorted_words,\"\\n\")\n",
    "        lst=[]\n",
    "        for t in sorted_words:\n",
    "            #print(t[0],end=\" \")\n",
    "            lst.append(t[0])\n",
    "        #print(\"\\n\")\n",
    "        \n",
    "        dct1_tp[tpc] = lst\n",
    "\n",
    "print(dct1_tp)  "
   ]
  },
  {
   "cell_type": "code",
   "execution_count": 183,
   "id": "ed8d1d09",
   "metadata": {},
   "outputs": [
    {
     "data": {
      "image/png": "[encoded data removed]",
      "text/plain": [
       "<Figure size 864x504 with 5 Axes>"
      ]
     },
     "metadata": {},
     "output_type": "display_data"
    }
   ],
   "source": [
    "plot_top_words(lda1,tfvctr1.get_feature_names(),20,\"LDA1 Topics\")"
   ]
  },
  {
   "cell_type": "code",
   "execution_count": 43,
   "id": "02e7352b",
   "metadata": {},
   "outputs": [
    {
     "data": {
      "text/plain": [
       "array([[0.85951681, 0.76131928, 0.8671438 , ..., 0.69272487, 0.83876483,\n",
       "        0.75384679],\n",
       "       [0.86288029, 0.65595857, 0.64021795, ..., 0.75554175, 0.81632321,\n",
       "        0.63992468],\n",
       "       [0.82320804, 0.75915808, 0.78569794, ..., 0.63942668, 0.88268749,\n",
       "        0.69939087],\n",
       "       [0.94919824, 0.72198456, 0.80860399, ..., 0.71808678, 0.79178303,\n",
       "        0.78436767],\n",
       "       [0.66849033, 0.78489017, 0.70921535, ..., 0.7997818 , 0.75265584,\n",
       "        0.7924799 ]])"
      ]
     },
     "execution_count": 43,
     "metadata": {},
     "output_type": "execute_result"
    }
   ],
   "source": [
    "lda_1.components_"
   ]
  },
  {
   "cell_type": "code",
   "execution_count": null,
   "id": "9857336b",
   "metadata": {},
   "outputs": [],
   "source": []
  },
  {
   "cell_type": "code",
   "execution_count": 189,
   "id": "f91b5a71",
   "metadata": {},
   "outputs": [],
   "source": [
    "dflda = pd.DataFrame()"
   ]
  },
  {
   "cell_type": "code",
   "execution_count": 190,
   "id": "4ceef71c",
   "metadata": {},
   "outputs": [],
   "source": [
    "df1 = pd.read_csv(\"qis_prcsdtxt_df.csv\")"
   ]
  },
  {
   "cell_type": "code",
   "execution_count": 224,
   "id": "3240b968",
   "metadata": {},
   "outputs": [],
   "source": [
    "def tpccnt(txt):\n",
    "    \n",
    "        lstw = txt.split(\" \")\n",
    "        lsttpc = []\n",
    "        \n",
    "        for i in range(1,6):\n",
    "            \n",
    "            #print(i,\":\")\n",
    "            \n",
    "            lstcmn = []\n",
    "            lstcnt = []\n",
    "            \n",
    "            ky = \"Topic\"+str(i)\n",
    "            \n",
    "            \n",
    "            lstcmn =  set(lstw).intersection(set(dct0_tp[ky]))\n",
    "            #print(\"1:\",lstcmn)\n",
    "            lstcnt = [lstw.count(w) for w in lstcmn]\n",
    "            #print(\"2:\",lstcnt)\n",
    "            sm = np.array(lstcnt).sum()\n",
    "            #print(\"3:\",sm)\n",
    "            rt = sm/len(lstw)\n",
    "            #print(\"4:\",rt)            \n",
    "            lsttpc.append(np.round(rt,4))\n",
    "            \n",
    "            \n",
    "            #print(\"----------------\")\n",
    "            \n",
    "            lstcmn = []\n",
    "            lstcnt = []\n",
    "            \n",
    "            lstcmn =  set(lstw).intersection(set(dct1_tp[ky]))\n",
    "            #print(\"5:\",lstcmn)\n",
    "            lstcnt = [lstw.count(w) for w in lstcmn]\n",
    "            #print(\"6:\",lstcmn)\n",
    "            sm = np.array(lstcnt).sum()\n",
    "            #print(\"7:\",sm)\n",
    "            rt = sm/len(lstw)\n",
    "            #print(\"8:\",rt)            \n",
    "            lsttpc.append(np.round(rt,4))\n",
    "            \n",
    "            #print(\"************************\")  \n",
    "            \n",
    "        return lsttpc\n",
    "            \n",
    "              "
   ]
  },
  {
   "cell_type": "code",
   "execution_count": null,
   "id": "065c7f5c",
   "metadata": {},
   "outputs": [],
   "source": [
    "a1,a2,a3,a4,a5,a6,a7,a8,a9,a10 = zip(*df1['prcsd_txt'][120:121].apply(lambda x:tpccnt(x)))\n"
   ]
  },
  {
   "cell_type": "code",
   "execution_count": 227,
   "id": "ce7cfdfc",
   "metadata": {},
   "outputs": [
    {
     "name": "stdout",
     "output_type": "stream",
     "text": [
      "done in 247.608s.\n"
     ]
    }
   ],
   "source": [
    "t0 = time()\n",
    "dflda['t10'],dflda['t11'],dflda['t20'],dflda['t21'],dflda['t30'],dflda['t31'],\\\n",
    "dflda['t40'],dflda['t41'],dflda['t50'],dflda['t51'] = zip(*df1['prcsd_txt'].apply(lambda x:tpccnt(x)))\n",
    "print(\"done in %0.3fs.\" % (time() - t0))"
   ]
  },
  {
   "cell_type": "code",
   "execution_count": 229,
   "id": "c236ea9a",
   "metadata": {},
   "outputs": [
    {
     "name": "stdout",
     "output_type": "stream",
     "text": [
      "(1306122, 10)\n",
      "      t10     t11     t20     t21     t30     t31     t40     t41     t50  \\\n",
      "0  0.0000  0.0714  0.0000  0.0000  0.0000  0.0714  0.0714  0.0000  0.0714   \n",
      "1  0.0000  0.0526  0.0000  0.0526  0.0000  0.0526  0.0526  0.0526  0.0526   \n",
      "2  0.1538  0.1538  0.2308  0.0000  0.1538  0.1538  0.0000  0.0000  0.0000   \n",
      "3  0.1000  0.1000  0.0000  0.0000  0.0000  0.1000  0.1000  0.0000  0.1000   \n",
      "4  0.0000  0.0000  0.0625  0.0000  0.0000  0.0000  0.0000  0.0000  0.0000   \n",
      "\n",
      "      t51  \n",
      "0  0.0000  \n",
      "1  0.0526  \n",
      "2  0.1538  \n",
      "3  0.0000  \n",
      "4  0.0000  \n"
     ]
    }
   ],
   "source": [
    "print(dflda.shape)\n",
    "print(dflda.head(5))"
   ]
  },
  {
   "cell_type": "code",
   "execution_count": 222,
   "id": "38afae06",
   "metadata": {},
   "outputs": [
    {
     "name": "stdout",
     "output_type": "stream",
     "text": [
      "0.0,0.0,0.0,0.0,0.0769,0.0,0.1538,0.0,0.0,0.0769,"
     ]
    }
   ],
   "source": [
    "for i in range(1,11):\n",
    "    print(eval(\"a\"+str(i))[0],end=\",\")"
   ]
  },
  {
   "cell_type": "code",
   "execution_count": null,
   "id": "8b7ff46e",
   "metadata": {},
   "outputs": [],
   "source": []
  },
  {
   "cell_type": "code",
   "execution_count": 231,
   "id": "89c09ccc",
   "metadata": {},
   "outputs": [],
   "source": [
    "from sklearn.model_selection import train_test_split\n",
    "X_trn_ldf, X_tst_ldf, y_trn_ldf, y_tst_ldf = train_test_split(dflda, df1['target'], test_size=0.25, random_state=42)"
   ]
  },
  {
   "cell_type": "code",
   "execution_count": 232,
   "id": "cc61072a",
   "metadata": {},
   "outputs": [
    {
     "data": {
      "text/plain": [
       "LogisticRegression()"
      ]
     },
     "execution_count": 232,
     "metadata": {},
     "output_type": "execute_result"
    }
   ],
   "source": [
    "from sklearn.linear_model import LogisticRegression\n",
    "lgrclf = LogisticRegression()\n",
    "\n",
    "lgrclf.fit(X_trn_ldf,y_trn_ldf)"
   ]
  },
  {
   "cell_type": "code",
   "execution_count": 233,
   "id": "976e3902",
   "metadata": {},
   "outputs": [],
   "source": [
    "y_lda_pred_lbls_lr = lgrclf.predict(X_tst_ldf)"
   ]
  },
  {
   "cell_type": "code",
   "execution_count": 236,
   "id": "5e63b108",
   "metadata": {},
   "outputs": [
    {
     "name": "stdout",
     "output_type": "stream",
     "text": [
      "              precision    recall  f1-score   support\n",
      "\n",
      "           0       0.94      1.00      0.97    918720\n",
      "           1       0.41      0.05      0.08     60871\n",
      "\n",
      "    accuracy                           0.94    979591\n",
      "   macro avg       0.67      0.52      0.53    979591\n",
      "weighted avg       0.91      0.94      0.91    979591\n",
      "\n",
      "--------------------------------------------------------------------------\n",
      "              precision    recall  f1-score   support\n",
      "\n",
      "           0       0.94      1.00      0.97    306592\n",
      "           1       0.40      0.05      0.08     19939\n",
      "\n",
      "    accuracy                           0.94    326531\n",
      "   macro avg       0.67      0.52      0.53    326531\n",
      "weighted avg       0.91      0.94      0.91    326531\n",
      "\n"
     ]
    }
   ],
   "source": [
    "from sklearn.metrics import classification_report\n",
    "from sklearn.metrics import plot_confusion_matrix\n",
    "\n",
    "print(classification_report(y_trn_ldf,lgrclf.predict(X_trn_ldf),labels=[0,1]))\n",
    "print(\"--------------------------------------------------------------------------\")\n",
    "print(classification_report(y_tst_ldf,y_lda_pred_lbls_lr,labels=[0,1]))"
   ]
  },
  {
   "cell_type": "code",
   "execution_count": null,
   "id": "c0763f7b",
   "metadata": {},
   "outputs": [],
   "source": []
  },
  {
   "cell_type": "code",
   "execution_count": 249,
   "id": "39d137ea",
   "metadata": {},
   "outputs": [
    {
     "name": "stdout",
     "output_type": "stream",
     "text": [
      "   t10     t11  t20     t21  t30     t31     t40     t41     t50     t51  \\\n",
      "0  0.0  0.0714  0.0  0.0000  0.0  0.0714  0.0714  0.0000  0.0714  0.0000   \n",
      "1  0.0  0.0526  0.0  0.0526  0.0  0.0526  0.0526  0.0526  0.0526  0.0526   \n",
      "\n",
      "   target  \n",
      "0       0  \n",
      "1       0  \n"
     ]
    }
   ],
   "source": [
    "dflda_trgt = pd.concat([dflda,df1['target']],axis=1)\n",
    "print(dflda_trgt.head(2))"
   ]
  },
  {
   "cell_type": "code",
   "execution_count": 250,
   "id": "4f914339",
   "metadata": {},
   "outputs": [
    {
     "data": {
      "text/html": [
       "<style  type=\"text/css\" >\n",
       "    #T_44c30802_71fb_11ec_b07e_d8c0a6f7e60erow0_col0 {\n",
       "            background-color:  #b40426;\n",
       "        }    #T_44c30802_71fb_11ec_b07e_d8c0a6f7e60erow0_col1 {\n",
       "            background-color:  #8db0fe;\n",
       "        }    #T_44c30802_71fb_11ec_b07e_d8c0a6f7e60erow0_col2 {\n",
       "            background-color:  #bbd1f8;\n",
       "        }    #T_44c30802_71fb_11ec_b07e_d8c0a6f7e60erow0_col3 {\n",
       "            background-color:  #5673e0;\n",
       "        }    #T_44c30802_71fb_11ec_b07e_d8c0a6f7e60erow0_col4 {\n",
       "            background-color:  #b1cbfc;\n",
       "        }    #T_44c30802_71fb_11ec_b07e_d8c0a6f7e60erow0_col5 {\n",
       "            background-color:  #8db0fe;\n",
       "        }    #T_44c30802_71fb_11ec_b07e_d8c0a6f7e60erow0_col6 {\n",
       "            background-color:  #3b4cc0;\n",
       "        }    #T_44c30802_71fb_11ec_b07e_d8c0a6f7e60erow0_col7 {\n",
       "            background-color:  #3b4cc0;\n",
       "        }    #T_44c30802_71fb_11ec_b07e_d8c0a6f7e60erow0_col8 {\n",
       "            background-color:  #3b4cc0;\n",
       "        }    #T_44c30802_71fb_11ec_b07e_d8c0a6f7e60erow0_col9 {\n",
       "            background-color:  #7ea1fa;\n",
       "        }    #T_44c30802_71fb_11ec_b07e_d8c0a6f7e60erow0_col10 {\n",
       "            background-color:  #3b4cc0;\n",
       "        }    #T_44c30802_71fb_11ec_b07e_d8c0a6f7e60erow1_col0 {\n",
       "            background-color:  #b2ccfb;\n",
       "        }    #T_44c30802_71fb_11ec_b07e_d8c0a6f7e60erow1_col1 {\n",
       "            background-color:  #b40426;\n",
       "        }    #T_44c30802_71fb_11ec_b07e_d8c0a6f7e60erow1_col2 {\n",
       "            background-color:  #dcdddd;\n",
       "        }    #T_44c30802_71fb_11ec_b07e_d8c0a6f7e60erow1_col3 {\n",
       "            background-color:  #779af7;\n",
       "        }    #T_44c30802_71fb_11ec_b07e_d8c0a6f7e60erow1_col4 {\n",
       "            background-color:  #bfd3f6;\n",
       "        }    #T_44c30802_71fb_11ec_b07e_d8c0a6f7e60erow1_col5 {\n",
       "            background-color:  #eed0c0;\n",
       "        }    #T_44c30802_71fb_11ec_b07e_d8c0a6f7e60erow1_col6 {\n",
       "            background-color:  #bad0f8;\n",
       "        }    #T_44c30802_71fb_11ec_b07e_d8c0a6f7e60erow1_col7 {\n",
       "            background-color:  #84a7fc;\n",
       "        }    #T_44c30802_71fb_11ec_b07e_d8c0a6f7e60erow1_col8 {\n",
       "            background-color:  #b3cdfb;\n",
       "        }    #T_44c30802_71fb_11ec_b07e_d8c0a6f7e60erow1_col9 {\n",
       "            background-color:  #bcd2f7;\n",
       "        }    #T_44c30802_71fb_11ec_b07e_d8c0a6f7e60erow1_col10 {\n",
       "            background-color:  #6180e9;\n",
       "        }    #T_44c30802_71fb_11ec_b07e_d8c0a6f7e60erow2_col0 {\n",
       "            background-color:  #bcd2f7;\n",
       "        }    #T_44c30802_71fb_11ec_b07e_d8c0a6f7e60erow2_col1 {\n",
       "            background-color:  #c6d6f1;\n",
       "        }    #T_44c30802_71fb_11ec_b07e_d8c0a6f7e60erow2_col2 {\n",
       "            background-color:  #b40426;\n",
       "        }    #T_44c30802_71fb_11ec_b07e_d8c0a6f7e60erow2_col3 {\n",
       "            background-color:  #4a63d3;\n",
       "        }    #T_44c30802_71fb_11ec_b07e_d8c0a6f7e60erow2_col4 {\n",
       "            background-color:  #aec9fc;\n",
       "        }    #T_44c30802_71fb_11ec_b07e_d8c0a6f7e60erow2_col5 {\n",
       "            background-color:  #98b9ff;\n",
       "        }    #T_44c30802_71fb_11ec_b07e_d8c0a6f7e60erow2_col6 {\n",
       "            background-color:  #3c4ec2;\n",
       "        }    #T_44c30802_71fb_11ec_b07e_d8c0a6f7e60erow2_col7 {\n",
       "            background-color:  #4055c8;\n",
       "        }    #T_44c30802_71fb_11ec_b07e_d8c0a6f7e60erow2_col8 {\n",
       "            background-color:  #4055c8;\n",
       "        }    #T_44c30802_71fb_11ec_b07e_d8c0a6f7e60erow2_col9 {\n",
       "            background-color:  #90b2fe;\n",
       "        }    #T_44c30802_71fb_11ec_b07e_d8c0a6f7e60erow2_col10 {\n",
       "            background-color:  #455cce;\n",
       "        }    #T_44c30802_71fb_11ec_b07e_d8c0a6f7e60erow3_col0 {\n",
       "            background-color:  #6f92f3;\n",
       "        }    #T_44c30802_71fb_11ec_b07e_d8c0a6f7e60erow3_col1 {\n",
       "            background-color:  #6384eb;\n",
       "        }    #T_44c30802_71fb_11ec_b07e_d8c0a6f7e60erow3_col2 {\n",
       "            background-color:  #6180e9;\n",
       "        }    #T_44c30802_71fb_11ec_b07e_d8c0a6f7e60erow3_col3 {\n",
       "            background-color:  #b40426;\n",
       "        }    #T_44c30802_71fb_11ec_b07e_d8c0a6f7e60erow3_col4 {\n",
       "            background-color:  #4b64d5;\n",
       "        }    #T_44c30802_71fb_11ec_b07e_d8c0a6f7e60erow3_col5 {\n",
       "            background-color:  #779af7;\n",
       "        }    #T_44c30802_71fb_11ec_b07e_d8c0a6f7e60erow3_col6 {\n",
       "            background-color:  #81a4fb;\n",
       "        }    #T_44c30802_71fb_11ec_b07e_d8c0a6f7e60erow3_col7 {\n",
       "            background-color:  #b6cefa;\n",
       "        }    #T_44c30802_71fb_11ec_b07e_d8c0a6f7e60erow3_col8 {\n",
       "            background-color:  #8db0fe;\n",
       "        }    #T_44c30802_71fb_11ec_b07e_d8c0a6f7e60erow3_col9 {\n",
       "            background-color:  #6f92f3;\n",
       "        }    #T_44c30802_71fb_11ec_b07e_d8c0a6f7e60erow3_col10 {\n",
       "            background-color:  #81a4fb;\n",
       "        }    #T_44c30802_71fb_11ec_b07e_d8c0a6f7e60erow4_col0 {\n",
       "            background-color:  #b5cdfa;\n",
       "        }    #T_44c30802_71fb_11ec_b07e_d8c0a6f7e60erow4_col1 {\n",
       "            background-color:  #a3c2fe;\n",
       "        }    #T_44c30802_71fb_11ec_b07e_d8c0a6f7e60erow4_col2 {\n",
       "            background-color:  #b2ccfb;\n",
       "        }    #T_44c30802_71fb_11ec_b07e_d8c0a6f7e60erow4_col3 {\n",
       "            background-color:  #3b4cc0;\n",
       "        }    #T_44c30802_71fb_11ec_b07e_d8c0a6f7e60erow4_col4 {\n",
       "            background-color:  #b40426;\n",
       "        }    #T_44c30802_71fb_11ec_b07e_d8c0a6f7e60erow4_col5 {\n",
       "            background-color:  #799cf8;\n",
       "        }    #T_44c30802_71fb_11ec_b07e_d8c0a6f7e60erow4_col6 {\n",
       "            background-color:  #92b4fe;\n",
       "        }    #T_44c30802_71fb_11ec_b07e_d8c0a6f7e60erow4_col7 {\n",
       "            background-color:  #98b9ff;\n",
       "        }    #T_44c30802_71fb_11ec_b07e_d8c0a6f7e60erow4_col8 {\n",
       "            background-color:  #5673e0;\n",
       "        }    #T_44c30802_71fb_11ec_b07e_d8c0a6f7e60erow4_col9 {\n",
       "            background-color:  #dedcdb;\n",
       "        }    #T_44c30802_71fb_11ec_b07e_d8c0a6f7e60erow4_col10 {\n",
       "            background-color:  #3b4cc0;\n",
       "        }    #T_44c30802_71fb_11ec_b07e_d8c0a6f7e60erow5_col0 {\n",
       "            background-color:  #bcd2f7;\n",
       "        }    #T_44c30802_71fb_11ec_b07e_d8c0a6f7e60erow5_col1 {\n",
       "            background-color:  #f1ccb8;\n",
       "        }    #T_44c30802_71fb_11ec_b07e_d8c0a6f7e60erow5_col2 {\n",
       "            background-color:  #c3d5f4;\n",
       "        }    #T_44c30802_71fb_11ec_b07e_d8c0a6f7e60erow5_col3 {\n",
       "            background-color:  #96b7ff;\n",
       "        }    #T_44c30802_71fb_11ec_b07e_d8c0a6f7e60erow5_col4 {\n",
       "            background-color:  #a6c4fe;\n",
       "        }    #T_44c30802_71fb_11ec_b07e_d8c0a6f7e60erow5_col5 {\n",
       "            background-color:  #b40426;\n",
       "        }    #T_44c30802_71fb_11ec_b07e_d8c0a6f7e60erow5_col6 {\n",
       "            background-color:  #98b9ff;\n",
       "        }    #T_44c30802_71fb_11ec_b07e_d8c0a6f7e60erow5_col7 {\n",
       "            background-color:  #9abbff;\n",
       "        }    #T_44c30802_71fb_11ec_b07e_d8c0a6f7e60erow5_col8 {\n",
       "            background-color:  #d7dce3;\n",
       "        }    #T_44c30802_71fb_11ec_b07e_d8c0a6f7e60erow5_col9 {\n",
       "            background-color:  #d2dbe8;\n",
       "        }    #T_44c30802_71fb_11ec_b07e_d8c0a6f7e60erow5_col10 {\n",
       "            background-color:  #6e90f2;\n",
       "        }    #T_44c30802_71fb_11ec_b07e_d8c0a6f7e60erow6_col0 {\n",
       "            background-color:  #3b4cc0;\n",
       "        }    #T_44c30802_71fb_11ec_b07e_d8c0a6f7e60erow6_col1 {\n",
       "            background-color:  #96b7ff;\n",
       "        }    #T_44c30802_71fb_11ec_b07e_d8c0a6f7e60erow6_col2 {\n",
       "            background-color:  #3b4cc0;\n",
       "        }    #T_44c30802_71fb_11ec_b07e_d8c0a6f7e60erow6_col3 {\n",
       "            background-color:  #6a8bef;\n",
       "        }    #T_44c30802_71fb_11ec_b07e_d8c0a6f7e60erow6_col4 {\n",
       "            background-color:  #8badfd;\n",
       "        }    #T_44c30802_71fb_11ec_b07e_d8c0a6f7e60erow6_col5 {\n",
       "            background-color:  #6282ea;\n",
       "        }    #T_44c30802_71fb_11ec_b07e_d8c0a6f7e60erow6_col6 {\n",
       "            background-color:  #b40426;\n",
       "        }    #T_44c30802_71fb_11ec_b07e_d8c0a6f7e60erow6_col7 {\n",
       "            background-color:  #6a8bef;\n",
       "        }    #T_44c30802_71fb_11ec_b07e_d8c0a6f7e60erow6_col8 {\n",
       "            background-color:  #93b5fe;\n",
       "        }    #T_44c30802_71fb_11ec_b07e_d8c0a6f7e60erow6_col9 {\n",
       "            background-color:  #6c8ff1;\n",
       "        }    #T_44c30802_71fb_11ec_b07e_d8c0a6f7e60erow6_col10 {\n",
       "            background-color:  #4257c9;\n",
       "        }    #T_44c30802_71fb_11ec_b07e_d8c0a6f7e60erow7_col0 {\n",
       "            background-color:  #465ecf;\n",
       "        }    #T_44c30802_71fb_11ec_b07e_d8c0a6f7e60erow7_col1 {\n",
       "            background-color:  #6384eb;\n",
       "        }    #T_44c30802_71fb_11ec_b07e_d8c0a6f7e60erow7_col2 {\n",
       "            background-color:  #4b64d5;\n",
       "        }    #T_44c30802_71fb_11ec_b07e_d8c0a6f7e60erow7_col3 {\n",
       "            background-color:  #adc9fd;\n",
       "        }    #T_44c30802_71fb_11ec_b07e_d8c0a6f7e60erow7_col4 {\n",
       "            background-color:  #9ebeff;\n",
       "        }    #T_44c30802_71fb_11ec_b07e_d8c0a6f7e60erow7_col5 {\n",
       "            background-color:  #6f92f3;\n",
       "        }    #T_44c30802_71fb_11ec_b07e_d8c0a6f7e60erow7_col6 {\n",
       "            background-color:  #7699f6;\n",
       "        }    #T_44c30802_71fb_11ec_b07e_d8c0a6f7e60erow7_col7 {\n",
       "            background-color:  #b40426;\n",
       "        }    #T_44c30802_71fb_11ec_b07e_d8c0a6f7e60erow7_col8 {\n",
       "            background-color:  #cbd8ee;\n",
       "        }    #T_44c30802_71fb_11ec_b07e_d8c0a6f7e60erow7_col9 {\n",
       "            background-color:  #b2ccfb;\n",
       "        }    #T_44c30802_71fb_11ec_b07e_d8c0a6f7e60erow7_col10 {\n",
       "            background-color:  #7b9ff9;\n",
       "        }    #T_44c30802_71fb_11ec_b07e_d8c0a6f7e60erow8_col0 {\n",
       "            background-color:  #4257c9;\n",
       "        }    #T_44c30802_71fb_11ec_b07e_d8c0a6f7e60erow8_col1 {\n",
       "            background-color:  #96b7ff;\n",
       "        }    #T_44c30802_71fb_11ec_b07e_d8c0a6f7e60erow8_col2 {\n",
       "            background-color:  #465ecf;\n",
       "        }    #T_44c30802_71fb_11ec_b07e_d8c0a6f7e60erow8_col3 {\n",
       "            background-color:  #7ea1fa;\n",
       "        }    #T_44c30802_71fb_11ec_b07e_d8c0a6f7e60erow8_col4 {\n",
       "            background-color:  #5875e1;\n",
       "        }    #T_44c30802_71fb_11ec_b07e_d8c0a6f7e60erow8_col5 {\n",
       "            background-color:  #bad0f8;\n",
       "        }    #T_44c30802_71fb_11ec_b07e_d8c0a6f7e60erow8_col6 {\n",
       "            background-color:  #9abbff;\n",
       "        }    #T_44c30802_71fb_11ec_b07e_d8c0a6f7e60erow8_col7 {\n",
       "            background-color:  #c9d7f0;\n",
       "        }    #T_44c30802_71fb_11ec_b07e_d8c0a6f7e60erow8_col8 {\n",
       "            background-color:  #b40426;\n",
       "        }    #T_44c30802_71fb_11ec_b07e_d8c0a6f7e60erow8_col9 {\n",
       "            background-color:  #9dbdff;\n",
       "        }    #T_44c30802_71fb_11ec_b07e_d8c0a6f7e60erow8_col10 {\n",
       "            background-color:  #5f7fe8;\n",
       "        }    #T_44c30802_71fb_11ec_b07e_d8c0a6f7e60erow9_col0 {\n",
       "            background-color:  #aec9fc;\n",
       "        }    #T_44c30802_71fb_11ec_b07e_d8c0a6f7e60erow9_col1 {\n",
       "            background-color:  #c4d5f3;\n",
       "        }    #T_44c30802_71fb_11ec_b07e_d8c0a6f7e60erow9_col2 {\n",
       "            background-color:  #bad0f8;\n",
       "        }    #T_44c30802_71fb_11ec_b07e_d8c0a6f7e60erow9_col3 {\n",
       "            background-color:  #8caffe;\n",
       "        }    #T_44c30802_71fb_11ec_b07e_d8c0a6f7e60erow9_col4 {\n",
       "            background-color:  #efcfbf;\n",
       "        }    #T_44c30802_71fb_11ec_b07e_d8c0a6f7e60erow9_col5 {\n",
       "            background-color:  #cfdaea;\n",
       "        }    #T_44c30802_71fb_11ec_b07e_d8c0a6f7e60erow9_col6 {\n",
       "            background-color:  #9fbfff;\n",
       "        }    #T_44c30802_71fb_11ec_b07e_d8c0a6f7e60erow9_col7 {\n",
       "            background-color:  #cdd9ec;\n",
       "        }    #T_44c30802_71fb_11ec_b07e_d8c0a6f7e60erow9_col8 {\n",
       "            background-color:  #c0d4f5;\n",
       "        }    #T_44c30802_71fb_11ec_b07e_d8c0a6f7e60erow9_col9 {\n",
       "            background-color:  #b40426;\n",
       "        }    #T_44c30802_71fb_11ec_b07e_d8c0a6f7e60erow9_col10 {\n",
       "            background-color:  #6b8df0;\n",
       "        }    #T_44c30802_71fb_11ec_b07e_d8c0a6f7e60erow10_col0 {\n",
       "            background-color:  #4055c8;\n",
       "        }    #T_44c30802_71fb_11ec_b07e_d8c0a6f7e60erow10_col1 {\n",
       "            background-color:  #3b4cc0;\n",
       "        }    #T_44c30802_71fb_11ec_b07e_d8c0a6f7e60erow10_col2 {\n",
       "            background-color:  #4a63d3;\n",
       "        }    #T_44c30802_71fb_11ec_b07e_d8c0a6f7e60erow10_col3 {\n",
       "            background-color:  #6f92f3;\n",
       "        }    #T_44c30802_71fb_11ec_b07e_d8c0a6f7e60erow10_col4 {\n",
       "            background-color:  #3b4cc0;\n",
       "        }    #T_44c30802_71fb_11ec_b07e_d8c0a6f7e60erow10_col5 {\n",
       "            background-color:  #3b4cc0;\n",
       "        }    #T_44c30802_71fb_11ec_b07e_d8c0a6f7e60erow10_col6 {\n",
       "            background-color:  #485fd1;\n",
       "        }    #T_44c30802_71fb_11ec_b07e_d8c0a6f7e60erow10_col7 {\n",
       "            background-color:  #7699f6;\n",
       "        }    #T_44c30802_71fb_11ec_b07e_d8c0a6f7e60erow10_col8 {\n",
       "            background-color:  #5e7de7;\n",
       "        }    #T_44c30802_71fb_11ec_b07e_d8c0a6f7e60erow10_col9 {\n",
       "            background-color:  #3b4cc0;\n",
       "        }    #T_44c30802_71fb_11ec_b07e_d8c0a6f7e60erow10_col10 {\n",
       "            background-color:  #b40426;\n",
       "        }</style>  \n",
       "<table id=\"T_44c30802_71fb_11ec_b07e_d8c0a6f7e60e\" > \n",
       "<thead>    <tr> \n",
       "        <th class=\"blank level0\" ></th> \n",
       "        <th class=\"col_heading level0 col0\" >t10</th> \n",
       "        <th class=\"col_heading level0 col1\" >t11</th> \n",
       "        <th class=\"col_heading level0 col2\" >t20</th> \n",
       "        <th class=\"col_heading level0 col3\" >t21</th> \n",
       "        <th class=\"col_heading level0 col4\" >t30</th> \n",
       "        <th class=\"col_heading level0 col5\" >t31</th> \n",
       "        <th class=\"col_heading level0 col6\" >t40</th> \n",
       "        <th class=\"col_heading level0 col7\" >t41</th> \n",
       "        <th class=\"col_heading level0 col8\" >t50</th> \n",
       "        <th class=\"col_heading level0 col9\" >t51</th> \n",
       "        <th class=\"col_heading level0 col10\" >target</th> \n",
       "    </tr></thead> \n",
       "<tbody>    <tr> \n",
       "        <th id=\"T_44c30802_71fb_11ec_b07e_d8c0a6f7e60elevel0_row0\" class=\"row_heading level0 row0\" >t10</th> \n",
       "        <td id=\"T_44c30802_71fb_11ec_b07e_d8c0a6f7e60erow0_col0\" class=\"data row0 col0\" >1</td> \n",
       "        <td id=\"T_44c30802_71fb_11ec_b07e_d8c0a6f7e60erow0_col1\" class=\"data row0 col1\" >0.32</td> \n",
       "        <td id=\"T_44c30802_71fb_11ec_b07e_d8c0a6f7e60erow0_col2\" class=\"data row0 col2\" >0.36</td> \n",
       "        <td id=\"T_44c30802_71fb_11ec_b07e_d8c0a6f7e60erow0_col3\" class=\"data row0 col3\" >0.12</td> \n",
       "        <td id=\"T_44c30802_71fb_11ec_b07e_d8c0a6f7e60erow0_col4\" class=\"data row0 col4\" >0.33</td> \n",
       "        <td id=\"T_44c30802_71fb_11ec_b07e_d8c0a6f7e60erow0_col5\" class=\"data row0 col5\" >0.35</td> \n",
       "        <td id=\"T_44c30802_71fb_11ec_b07e_d8c0a6f7e60erow0_col6\" class=\"data row0 col6\" >-0.053</td> \n",
       "        <td id=\"T_44c30802_71fb_11ec_b07e_d8c0a6f7e60erow0_col7\" class=\"data row0 col7\" >-0.011</td> \n",
       "        <td id=\"T_44c30802_71fb_11ec_b07e_d8c0a6f7e60erow0_col8\" class=\"data row0 col8\" >-0.026</td> \n",
       "        <td id=\"T_44c30802_71fb_11ec_b07e_d8c0a6f7e60erow0_col9\" class=\"data row0 col9\" >0.31</td> \n",
       "        <td id=\"T_44c30802_71fb_11ec_b07e_d8c0a6f7e60erow0_col10\" class=\"data row0 col10\" >-0.031</td> \n",
       "    </tr>    <tr> \n",
       "        <th id=\"T_44c30802_71fb_11ec_b07e_d8c0a6f7e60elevel0_row1\" class=\"row_heading level0 row1\" >t11</th> \n",
       "        <td id=\"T_44c30802_71fb_11ec_b07e_d8c0a6f7e60erow1_col0\" class=\"data row1 col0\" >0.32</td> \n",
       "        <td id=\"T_44c30802_71fb_11ec_b07e_d8c0a6f7e60erow1_col1\" class=\"data row1 col1\" >1</td> \n",
       "        <td id=\"T_44c30802_71fb_11ec_b07e_d8c0a6f7e60erow1_col2\" class=\"data row1 col2\" >0.47</td> \n",
       "        <td id=\"T_44c30802_71fb_11ec_b07e_d8c0a6f7e60erow1_col3\" class=\"data row1 col3\" >0.21</td> \n",
       "        <td id=\"T_44c30802_71fb_11ec_b07e_d8c0a6f7e60erow1_col4\" class=\"data row1 col4\" >0.38</td> \n",
       "        <td id=\"T_44c30802_71fb_11ec_b07e_d8c0a6f7e60erow1_col5\" class=\"data row1 col5\" >0.63</td> \n",
       "        <td id=\"T_44c30802_71fb_11ec_b07e_d8c0a6f7e60erow1_col6\" class=\"data row1 col6\" >0.35</td> \n",
       "        <td id=\"T_44c30802_71fb_11ec_b07e_d8c0a6f7e60erow1_col7\" class=\"data row1 col7\" >0.22</td> \n",
       "        <td id=\"T_44c30802_71fb_11ec_b07e_d8c0a6f7e60erow1_col8\" class=\"data row1 col8\" >0.34</td> \n",
       "        <td id=\"T_44c30802_71fb_11ec_b07e_d8c0a6f7e60erow1_col9\" class=\"data row1 col9\" >0.47</td> \n",
       "        <td id=\"T_44c30802_71fb_11ec_b07e_d8c0a6f7e60erow1_col10\" class=\"data row1 col10\" >0.096</td> \n",
       "    </tr>    <tr> \n",
       "        <th id=\"T_44c30802_71fb_11ec_b07e_d8c0a6f7e60elevel0_row2\" class=\"row_heading level0 row2\" >t20</th> \n",
       "        <td id=\"T_44c30802_71fb_11ec_b07e_d8c0a6f7e60erow2_col0\" class=\"data row2 col0\" >0.36</td> \n",
       "        <td id=\"T_44c30802_71fb_11ec_b07e_d8c0a6f7e60erow2_col1\" class=\"data row2 col1\" >0.47</td> \n",
       "        <td id=\"T_44c30802_71fb_11ec_b07e_d8c0a6f7e60erow2_col2\" class=\"data row2 col2\" >1</td> \n",
       "        <td id=\"T_44c30802_71fb_11ec_b07e_d8c0a6f7e60erow2_col3\" class=\"data row2 col3\" >0.082</td> \n",
       "        <td id=\"T_44c30802_71fb_11ec_b07e_d8c0a6f7e60erow2_col4\" class=\"data row2 col4\" >0.33</td> \n",
       "        <td id=\"T_44c30802_71fb_11ec_b07e_d8c0a6f7e60erow2_col5\" class=\"data row2 col5\" >0.38</td> \n",
       "        <td id=\"T_44c30802_71fb_11ec_b07e_d8c0a6f7e60erow2_col6\" class=\"data row2 col6\" >-0.048</td> \n",
       "        <td id=\"T_44c30802_71fb_11ec_b07e_d8c0a6f7e60erow2_col7\" class=\"data row2 col7\" >0.0098</td> \n",
       "        <td id=\"T_44c30802_71fb_11ec_b07e_d8c0a6f7e60erow2_col8\" class=\"data row2 col8\" >-0.0055</td> \n",
       "        <td id=\"T_44c30802_71fb_11ec_b07e_d8c0a6f7e60erow2_col9\" class=\"data row2 col9\" >0.35</td> \n",
       "        <td id=\"T_44c30802_71fb_11ec_b07e_d8c0a6f7e60erow2_col10\" class=\"data row2 col10\" >0.0089</td> \n",
       "    </tr>    <tr> \n",
       "        <th id=\"T_44c30802_71fb_11ec_b07e_d8c0a6f7e60elevel0_row3\" class=\"row_heading level0 row3\" >t21</th> \n",
       "        <td id=\"T_44c30802_71fb_11ec_b07e_d8c0a6f7e60erow3_col0\" class=\"data row3 col0\" >0.12</td> \n",
       "        <td id=\"T_44c30802_71fb_11ec_b07e_d8c0a6f7e60erow3_col1\" class=\"data row3 col1\" >0.21</td> \n",
       "        <td id=\"T_44c30802_71fb_11ec_b07e_d8c0a6f7e60erow3_col2\" class=\"data row3 col2\" >0.082</td> \n",
       "        <td id=\"T_44c30802_71fb_11ec_b07e_d8c0a6f7e60erow3_col3\" class=\"data row3 col3\" >1</td> \n",
       "        <td id=\"T_44c30802_71fb_11ec_b07e_d8c0a6f7e60erow3_col4\" class=\"data row3 col4\" >0.03</td> \n",
       "        <td id=\"T_44c30802_71fb_11ec_b07e_d8c0a6f7e60erow3_col5\" class=\"data row3 col5\" >0.3</td> \n",
       "        <td id=\"T_44c30802_71fb_11ec_b07e_d8c0a6f7e60erow3_col6\" class=\"data row3 col6\" >0.18</td> \n",
       "        <td id=\"T_44c30802_71fb_11ec_b07e_d8c0a6f7e60erow3_col7\" class=\"data row3 col7\" >0.36</td> \n",
       "        <td id=\"T_44c30802_71fb_11ec_b07e_d8c0a6f7e60erow3_col8\" class=\"data row3 col8\" >0.23</td> \n",
       "        <td id=\"T_44c30802_71fb_11ec_b07e_d8c0a6f7e60erow3_col9\" class=\"data row3 col9\" >0.27</td> \n",
       "        <td id=\"T_44c30802_71fb_11ec_b07e_d8c0a6f7e60erow3_col10\" class=\"data row3 col10\" >0.19</td> \n",
       "    </tr>    <tr> \n",
       "        <th id=\"T_44c30802_71fb_11ec_b07e_d8c0a6f7e60elevel0_row4\" class=\"row_heading level0 row4\" >t30</th> \n",
       "        <td id=\"T_44c30802_71fb_11ec_b07e_d8c0a6f7e60erow4_col0\" class=\"data row4 col0\" >0.33</td> \n",
       "        <td id=\"T_44c30802_71fb_11ec_b07e_d8c0a6f7e60erow4_col1\" class=\"data row4 col1\" >0.38</td> \n",
       "        <td id=\"T_44c30802_71fb_11ec_b07e_d8c0a6f7e60erow4_col2\" class=\"data row4 col2\" >0.33</td> \n",
       "        <td id=\"T_44c30802_71fb_11ec_b07e_d8c0a6f7e60erow4_col3\" class=\"data row4 col3\" >0.03</td> \n",
       "        <td id=\"T_44c30802_71fb_11ec_b07e_d8c0a6f7e60erow4_col4\" class=\"data row4 col4\" >1</td> \n",
       "        <td id=\"T_44c30802_71fb_11ec_b07e_d8c0a6f7e60erow4_col5\" class=\"data row4 col5\" >0.3</td> \n",
       "        <td id=\"T_44c30802_71fb_11ec_b07e_d8c0a6f7e60erow4_col6\" class=\"data row4 col6\" >0.22</td> \n",
       "        <td id=\"T_44c30802_71fb_11ec_b07e_d8c0a6f7e60erow4_col7\" class=\"data row4 col7\" >0.28</td> \n",
       "        <td id=\"T_44c30802_71fb_11ec_b07e_d8c0a6f7e60erow4_col8\" class=\"data row4 col8\" >0.067</td> \n",
       "        <td id=\"T_44c30802_71fb_11ec_b07e_d8c0a6f7e60erow4_col9\" class=\"data row4 col9\" >0.57</td> \n",
       "        <td id=\"T_44c30802_71fb_11ec_b07e_d8c0a6f7e60erow4_col10\" class=\"data row4 col10\" >-0.03</td> \n",
       "    </tr>    <tr> \n",
       "        <th id=\"T_44c30802_71fb_11ec_b07e_d8c0a6f7e60elevel0_row5\" class=\"row_heading level0 row5\" >t31</th> \n",
       "        <td id=\"T_44c30802_71fb_11ec_b07e_d8c0a6f7e60erow5_col0\" class=\"data row5 col0\" >0.35</td> \n",
       "        <td id=\"T_44c30802_71fb_11ec_b07e_d8c0a6f7e60erow5_col1\" class=\"data row5 col1\" >0.63</td> \n",
       "        <td id=\"T_44c30802_71fb_11ec_b07e_d8c0a6f7e60erow5_col2\" class=\"data row5 col2\" >0.38</td> \n",
       "        <td id=\"T_44c30802_71fb_11ec_b07e_d8c0a6f7e60erow5_col3\" class=\"data row5 col3\" >0.3</td> \n",
       "        <td id=\"T_44c30802_71fb_11ec_b07e_d8c0a6f7e60erow5_col4\" class=\"data row5 col4\" >0.3</td> \n",
       "        <td id=\"T_44c30802_71fb_11ec_b07e_d8c0a6f7e60erow5_col5\" class=\"data row5 col5\" >1</td> \n",
       "        <td id=\"T_44c30802_71fb_11ec_b07e_d8c0a6f7e60erow5_col6\" class=\"data row5 col6\" >0.25</td> \n",
       "        <td id=\"T_44c30802_71fb_11ec_b07e_d8c0a6f7e60erow5_col7\" class=\"data row5 col7\" >0.28</td> \n",
       "        <td id=\"T_44c30802_71fb_11ec_b07e_d8c0a6f7e60erow5_col8\" class=\"data row5 col8\" >0.47</td> \n",
       "        <td id=\"T_44c30802_71fb_11ec_b07e_d8c0a6f7e60erow5_col9\" class=\"data row5 col9\" >0.53</td> \n",
       "        <td id=\"T_44c30802_71fb_11ec_b07e_d8c0a6f7e60erow5_col10\" class=\"data row5 col10\" >0.14</td> \n",
       "    </tr>    <tr> \n",
       "        <th id=\"T_44c30802_71fb_11ec_b07e_d8c0a6f7e60elevel0_row6\" class=\"row_heading level0 row6\" >t40</th> \n",
       "        <td id=\"T_44c30802_71fb_11ec_b07e_d8c0a6f7e60erow6_col0\" class=\"data row6 col0\" >-0.053</td> \n",
       "        <td id=\"T_44c30802_71fb_11ec_b07e_d8c0a6f7e60erow6_col1\" class=\"data row6 col1\" >0.35</td> \n",
       "        <td id=\"T_44c30802_71fb_11ec_b07e_d8c0a6f7e60erow6_col2\" class=\"data row6 col2\" >-0.048</td> \n",
       "        <td id=\"T_44c30802_71fb_11ec_b07e_d8c0a6f7e60erow6_col3\" class=\"data row6 col3\" >0.18</td> \n",
       "        <td id=\"T_44c30802_71fb_11ec_b07e_d8c0a6f7e60erow6_col4\" class=\"data row6 col4\" >0.22</td> \n",
       "        <td id=\"T_44c30802_71fb_11ec_b07e_d8c0a6f7e60erow6_col5\" class=\"data row6 col5\" >0.25</td> \n",
       "        <td id=\"T_44c30802_71fb_11ec_b07e_d8c0a6f7e60erow6_col6\" class=\"data row6 col6\" >1</td> \n",
       "        <td id=\"T_44c30802_71fb_11ec_b07e_d8c0a6f7e60erow6_col7\" class=\"data row6 col7\" >0.14</td> \n",
       "        <td id=\"T_44c30802_71fb_11ec_b07e_d8c0a6f7e60erow6_col8\" class=\"data row6 col8\" >0.25</td> \n",
       "        <td id=\"T_44c30802_71fb_11ec_b07e_d8c0a6f7e60erow6_col9\" class=\"data row6 col9\" >0.26</td> \n",
       "        <td id=\"T_44c30802_71fb_11ec_b07e_d8c0a6f7e60erow6_col10\" class=\"data row6 col10\" >-0.0058</td> \n",
       "    </tr>    <tr> \n",
       "        <th id=\"T_44c30802_71fb_11ec_b07e_d8c0a6f7e60elevel0_row7\" class=\"row_heading level0 row7\" >t41</th> \n",
       "        <td id=\"T_44c30802_71fb_11ec_b07e_d8c0a6f7e60erow7_col0\" class=\"data row7 col0\" >-0.011</td> \n",
       "        <td id=\"T_44c30802_71fb_11ec_b07e_d8c0a6f7e60erow7_col1\" class=\"data row7 col1\" >0.22</td> \n",
       "        <td id=\"T_44c30802_71fb_11ec_b07e_d8c0a6f7e60erow7_col2\" class=\"data row7 col2\" >0.0098</td> \n",
       "        <td id=\"T_44c30802_71fb_11ec_b07e_d8c0a6f7e60erow7_col3\" class=\"data row7 col3\" >0.36</td> \n",
       "        <td id=\"T_44c30802_71fb_11ec_b07e_d8c0a6f7e60erow7_col4\" class=\"data row7 col4\" >0.28</td> \n",
       "        <td id=\"T_44c30802_71fb_11ec_b07e_d8c0a6f7e60erow7_col5\" class=\"data row7 col5\" >0.28</td> \n",
       "        <td id=\"T_44c30802_71fb_11ec_b07e_d8c0a6f7e60erow7_col6\" class=\"data row7 col6\" >0.14</td> \n",
       "        <td id=\"T_44c30802_71fb_11ec_b07e_d8c0a6f7e60erow7_col7\" class=\"data row7 col7\" >1</td> \n",
       "        <td id=\"T_44c30802_71fb_11ec_b07e_d8c0a6f7e60erow7_col8\" class=\"data row7 col8\" >0.42</td> \n",
       "        <td id=\"T_44c30802_71fb_11ec_b07e_d8c0a6f7e60erow7_col9\" class=\"data row7 col9\" >0.44</td> \n",
       "        <td id=\"T_44c30802_71fb_11ec_b07e_d8c0a6f7e60erow7_col10\" class=\"data row7 col10\" >0.18</td> \n",
       "    </tr>    <tr> \n",
       "        <th id=\"T_44c30802_71fb_11ec_b07e_d8c0a6f7e60elevel0_row8\" class=\"row_heading level0 row8\" >t50</th> \n",
       "        <td id=\"T_44c30802_71fb_11ec_b07e_d8c0a6f7e60erow8_col0\" class=\"data row8 col0\" >-0.026</td> \n",
       "        <td id=\"T_44c30802_71fb_11ec_b07e_d8c0a6f7e60erow8_col1\" class=\"data row8 col1\" >0.34</td> \n",
       "        <td id=\"T_44c30802_71fb_11ec_b07e_d8c0a6f7e60erow8_col2\" class=\"data row8 col2\" >-0.0055</td> \n",
       "        <td id=\"T_44c30802_71fb_11ec_b07e_d8c0a6f7e60erow8_col3\" class=\"data row8 col3\" >0.23</td> \n",
       "        <td id=\"T_44c30802_71fb_11ec_b07e_d8c0a6f7e60erow8_col4\" class=\"data row8 col4\" >0.067</td> \n",
       "        <td id=\"T_44c30802_71fb_11ec_b07e_d8c0a6f7e60erow8_col5\" class=\"data row8 col5\" >0.47</td> \n",
       "        <td id=\"T_44c30802_71fb_11ec_b07e_d8c0a6f7e60erow8_col6\" class=\"data row8 col6\" >0.25</td> \n",
       "        <td id=\"T_44c30802_71fb_11ec_b07e_d8c0a6f7e60erow8_col7\" class=\"data row8 col7\" >0.42</td> \n",
       "        <td id=\"T_44c30802_71fb_11ec_b07e_d8c0a6f7e60erow8_col8\" class=\"data row8 col8\" >1</td> \n",
       "        <td id=\"T_44c30802_71fb_11ec_b07e_d8c0a6f7e60erow8_col9\" class=\"data row8 col9\" >0.38</td> \n",
       "        <td id=\"T_44c30802_71fb_11ec_b07e_d8c0a6f7e60erow8_col10\" class=\"data row8 col10\" >0.092</td> \n",
       "    </tr>    <tr> \n",
       "        <th id=\"T_44c30802_71fb_11ec_b07e_d8c0a6f7e60elevel0_row9\" class=\"row_heading level0 row9\" >t51</th> \n",
       "        <td id=\"T_44c30802_71fb_11ec_b07e_d8c0a6f7e60erow9_col0\" class=\"data row9 col0\" >0.31</td> \n",
       "        <td id=\"T_44c30802_71fb_11ec_b07e_d8c0a6f7e60erow9_col1\" class=\"data row9 col1\" >0.47</td> \n",
       "        <td id=\"T_44c30802_71fb_11ec_b07e_d8c0a6f7e60erow9_col2\" class=\"data row9 col2\" >0.35</td> \n",
       "        <td id=\"T_44c30802_71fb_11ec_b07e_d8c0a6f7e60erow9_col3\" class=\"data row9 col3\" >0.27</td> \n",
       "        <td id=\"T_44c30802_71fb_11ec_b07e_d8c0a6f7e60erow9_col4\" class=\"data row9 col4\" >0.57</td> \n",
       "        <td id=\"T_44c30802_71fb_11ec_b07e_d8c0a6f7e60erow9_col5\" class=\"data row9 col5\" >0.53</td> \n",
       "        <td id=\"T_44c30802_71fb_11ec_b07e_d8c0a6f7e60erow9_col6\" class=\"data row9 col6\" >0.26</td> \n",
       "        <td id=\"T_44c30802_71fb_11ec_b07e_d8c0a6f7e60erow9_col7\" class=\"data row9 col7\" >0.44</td> \n",
       "        <td id=\"T_44c30802_71fb_11ec_b07e_d8c0a6f7e60erow9_col8\" class=\"data row9 col8\" >0.38</td> \n",
       "        <td id=\"T_44c30802_71fb_11ec_b07e_d8c0a6f7e60erow9_col9\" class=\"data row9 col9\" >1</td> \n",
       "        <td id=\"T_44c30802_71fb_11ec_b07e_d8c0a6f7e60erow9_col10\" class=\"data row9 col10\" >0.13</td> \n",
       "    </tr>    <tr> \n",
       "        <th id=\"T_44c30802_71fb_11ec_b07e_d8c0a6f7e60elevel0_row10\" class=\"row_heading level0 row10\" >target</th> \n",
       "        <td id=\"T_44c30802_71fb_11ec_b07e_d8c0a6f7e60erow10_col0\" class=\"data row10 col0\" >-0.031</td> \n",
       "        <td id=\"T_44c30802_71fb_11ec_b07e_d8c0a6f7e60erow10_col1\" class=\"data row10 col1\" >0.096</td> \n",
       "        <td id=\"T_44c30802_71fb_11ec_b07e_d8c0a6f7e60erow10_col2\" class=\"data row10 col2\" >0.0089</td> \n",
       "        <td id=\"T_44c30802_71fb_11ec_b07e_d8c0a6f7e60erow10_col3\" class=\"data row10 col3\" >0.19</td> \n",
       "        <td id=\"T_44c30802_71fb_11ec_b07e_d8c0a6f7e60erow10_col4\" class=\"data row10 col4\" >-0.03</td> \n",
       "        <td id=\"T_44c30802_71fb_11ec_b07e_d8c0a6f7e60erow10_col5\" class=\"data row10 col5\" >0.14</td> \n",
       "        <td id=\"T_44c30802_71fb_11ec_b07e_d8c0a6f7e60erow10_col6\" class=\"data row10 col6\" >-0.0058</td> \n",
       "        <td id=\"T_44c30802_71fb_11ec_b07e_d8c0a6f7e60erow10_col7\" class=\"data row10 col7\" >0.18</td> \n",
       "        <td id=\"T_44c30802_71fb_11ec_b07e_d8c0a6f7e60erow10_col8\" class=\"data row10 col8\" >0.092</td> \n",
       "        <td id=\"T_44c30802_71fb_11ec_b07e_d8c0a6f7e60erow10_col9\" class=\"data row10 col9\" >0.13</td> \n",
       "        <td id=\"T_44c30802_71fb_11ec_b07e_d8c0a6f7e60erow10_col10\" class=\"data row10 col10\" >1</td> \n",
       "    </tr></tbody> \n",
       "</table> "
      ],
      "text/plain": [
       "<pandas.io.formats.style.Styler at 0x2431136a7f0>"
      ]
     },
     "execution_count": 250,
     "metadata": {},
     "output_type": "execute_result"
    }
   ],
   "source": [
    "\n",
    "corr = dflda_trgt.corr()\n",
    "corr.style.background_gradient(cmap='coolwarm').set_precision(2)"
   ]
  },
  {
   "cell_type": "code",
   "execution_count": 252,
   "id": "360523c0",
   "metadata": {},
   "outputs": [],
   "source": [
    "dflda.to_csv(\"lda_features.csv\")"
   ]
  },
  {
   "cell_type": "code",
   "execution_count": 253,
   "id": "aa834778",
   "metadata": {},
   "outputs": [
    {
     "data": {
      "text/plain": [
       "t10       0.0000\n",
       "t11       0.1667\n",
       "t20       0.0000\n",
       "t21       0.0000\n",
       "t30       0.0000\n",
       "t31       0.0833\n",
       "t40       0.0000\n",
       "t41       0.0000\n",
       "t50       0.0833\n",
       "t51       0.1667\n",
       "target    0.0000\n",
       "Name: 598, dtype: float64"
      ]
     },
     "execution_count": 253,
     "metadata": {},
     "output_type": "execute_result"
    }
   ],
   "source": [
    "dflda_trgt.iloc[598]"
   ]
  },
  {
   "cell_type": "code",
   "execution_count": null,
   "id": "9e241404",
   "metadata": {},
   "outputs": [],
   "source": []
  }
 ],
 "metadata": {
  "kernelspec": {
   "display_name": "Python 3",
   "language": "python",
   "name": "python3"
  },
  "language_info": {
   "codemirror_mode": {
    "name": "ipython",
    "version": 3
   },
   "file_extension": ".py",
   "mimetype": "text/x-python",
   "name": "python",
   "nbconvert_exporter": "python",
   "pygments_lexer": "ipython3",
   "version": "3.6.5"
  }
 },
 "nbformat": 4,
 "nbformat_minor": 5
}
